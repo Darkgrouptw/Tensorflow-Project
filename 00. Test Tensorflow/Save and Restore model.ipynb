{
 "cells": [
  {
   "cell_type": "markdown",
   "metadata": {},
   "source": [
    "# 測試儲存和回覆變數\n",
    "---"
   ]
  },
  {
   "cell_type": "code",
   "execution_count": 1,
   "metadata": {},
   "outputs": [
    {
     "name": "stderr",
     "output_type": "stream",
     "text": [
      "/Library/Frameworks/Python.framework/Versions/3.6/lib/python3.6/importlib/_bootstrap.py:219: RuntimeWarning: compiletime version 3.5 of module 'tensorflow.python.framework.fast_tensor_util' does not match runtime version 3.6\n",
      "  return f(*args, **kwds)\n"
     ]
    }
   ],
   "source": [
    "import tensorflow as tf\n",
    "import os"
   ]
  },
  {
   "cell_type": "markdown",
   "metadata": {},
   "source": [
    "設定變數"
   ]
  },
  {
   "cell_type": "code",
   "execution_count": 2,
   "metadata": {},
   "outputs": [
    {
     "name": "stdout",
     "output_type": "stream",
     "text": [
      "Layer1/BiasAdd:0\n"
     ]
    }
   ],
   "source": [
    "# 設定變數\n",
    "input = tf.placeholder(tf.float32, [None, 10])\n",
    "layer1 = tf.layers.dense(\n",
    "    inputs=input,\n",
    "    units=1,\n",
    "    kernel_initializer=tf.random_normal_initializer(mean=0, stddev= 0.3),\n",
    "    bias_initializer=tf.random_normal_initializer(mean=0, stddev= 0.1),\n",
    "    name = \"Layer1\"\n",
    ")\n",
    "print(layer1.name)"
   ]
  },
  {
   "cell_type": "code",
   "execution_count": 3,
   "metadata": {},
   "outputs": [],
   "source": [
    "# 使用 Session\n",
    "session = tf.Session()\n",
    "session.run(tf.global_variables_initializer())"
   ]
  },
  {
   "cell_type": "code",
   "execution_count": 4,
   "metadata": {},
   "outputs": [
    {
     "data": {
      "text/plain": [
       "array([[-0.04241094],\n",
       "       [-0.40176252],\n",
       "       [ 0.17237444],\n",
       "       [ 0.48718777],\n",
       "       [ 0.44358596],\n",
       "       [ 0.07015489],\n",
       "       [ 0.38135642],\n",
       "       [ 0.00888421],\n",
       "       [-0.16738757],\n",
       "       [-0.01494874]], dtype=float32)"
      ]
     },
     "execution_count": 4,
     "metadata": {},
     "output_type": "execute_result"
    }
   ],
   "source": [
    "layer1Weight = tf.get_default_graph().get_tensor_by_name(name=\"Layer1/kernel:0\")\n",
    "session.run(layer1Weight)"
   ]
  },
  {
   "cell_type": "code",
   "execution_count": 5,
   "metadata": {},
   "outputs": [],
   "source": [
    "# 設定一個 存擋器\n",
    "saver = tf.train.Saver()"
   ]
  },
  {
   "cell_type": "code",
   "execution_count": 6,
   "metadata": {},
   "outputs": [
    {
     "data": {
      "text/plain": [
       "'./models/test-100'"
      ]
     },
     "execution_count": 6,
     "metadata": {},
     "output_type": "execute_result"
    }
   ],
   "source": [
    "if(not os.path.exists(\"./models/\")):\n",
    "    os.mkdir(\"./models/\")\n",
    "saver.save(session, \"./models/test\", global_step=100)"
   ]
  },
  {
   "cell_type": "markdown",
   "metadata": {},
   "source": [
    "# 將變數清空\n",
    "---"
   ]
  },
  {
   "cell_type": "code",
   "execution_count": 11,
   "metadata": {},
   "outputs": [],
   "source": [
    "#tf.reset_default_graph()\n",
    "session = tf.Session()\n",
    "session.run(tf.global_variables_initializer())"
   ]
  },
  {
   "cell_type": "code",
   "execution_count": 12,
   "metadata": {},
   "outputs": [
    {
     "data": {
      "text/plain": [
       "array([[ 0.02839328],\n",
       "       [-0.1802434 ],\n",
       "       [-0.42186376],\n",
       "       [-0.12839763],\n",
       "       [ 0.5559333 ],\n",
       "       [-0.31475022],\n",
       "       [-0.21113862],\n",
       "       [ 0.00826168],\n",
       "       [ 0.34905958],\n",
       "       [-0.68742585]], dtype=float32)"
      ]
     },
     "execution_count": 12,
     "metadata": {},
     "output_type": "execute_result"
    }
   ],
   "source": [
    "# 亂掉的 Weight\n",
    "session.run(layer1Weight)"
   ]
  },
  {
   "cell_type": "code",
   "execution_count": 13,
   "metadata": {},
   "outputs": [
    {
     "name": "stdout",
     "output_type": "stream",
     "text": [
      "INFO:tensorflow:Restoring parameters from ./models/test-100\n"
     ]
    },
    {
     "name": "stderr",
     "output_type": "stream",
     "text": [
      "INFO:tensorflow:Restoring parameters from ./models/test-100\n"
     ]
    },
    {
     "data": {
      "text/plain": [
       "array([[-0.04241094],\n",
       "       [-0.40176252],\n",
       "       [ 0.17237444],\n",
       "       [ 0.48718777],\n",
       "       [ 0.44358596],\n",
       "       [ 0.07015489],\n",
       "       [ 0.38135642],\n",
       "       [ 0.00888421],\n",
       "       [-0.16738757],\n",
       "       [-0.01494874]], dtype=float32)"
      ]
     },
     "execution_count": 13,
     "metadata": {},
     "output_type": "execute_result"
    }
   ],
   "source": [
    "saver.restore(session, \"./models/test-100\")\n",
    "\n",
    "# 恢復正常的 Weight\n",
    "session.run(layer1Weight)"
   ]
  },
  {
   "cell_type": "markdown",
   "metadata": {},
   "source": [
    "# 結論\n",
    "---\n",
    "1. 必須要建好 Graph 來能使用 restore 得 function，根據名字把 Graph 重建回來\n",
    "2. 如果是要 load Graph 的話，是需要用其他的 Function\n",
    "3. tf.train.Saver() 的路徑，一定要建過，路徑不存在會出現 error"
   ]
  }
 ],
 "metadata": {
  "kernelspec": {
   "display_name": "Python 2",
   "language": "python",
   "name": "python2"
  },
  "language_info": {
   "codemirror_mode": {
    "name": "ipython",
    "version": 3
   },
   "file_extension": ".py",
   "mimetype": "text/x-python",
   "name": "python",
   "nbconvert_exporter": "python",
   "pygments_lexer": "ipython3",
   "version": "3.6.3"
  }
 },
 "nbformat": 4,
 "nbformat_minor": 1
}
