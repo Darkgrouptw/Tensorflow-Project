{
 "cells": [
  {
   "cell_type": "code",
   "execution_count": 1,
   "metadata": {},
   "outputs": [],
   "source": [
    "import tensorflow as tf"
   ]
  },
  {
   "cell_type": "code",
   "execution_count": 2,
   "metadata": {},
   "outputs": [
    {
     "name": "stdout",
     "output_type": "stream",
     "text": [
      "Tensor(\"layer1/Relu:0\", shape=(?, 10), dtype=float32)\n",
      "Tensor(\"layer2/BiasAdd:0\", shape=(?, 10), dtype=float32)\n"
     ]
    }
   ],
   "source": [
    "weightInit = tf.random_normal_initializer(mean=0, stddev= 0.3)\n",
    "biasInit = tf.random_normal_initializer(mean=0, stddev= 0.1) \n",
    "input = tf.placeholder(tf.float32, [None, 10])\n",
    "layer1 = tf.layers.dense(\n",
    "    inputs=input,\n",
    "    units=10,\n",
    "    activation=tf.nn.relu,\n",
    "    kernel_initializer=weightInit,\n",
    "    bias_initializer=biasInit,\n",
    "    name=\"layer1\")\n",
    "layer2 = tf.layers.dense(\n",
    "    inputs=layer1,\n",
    "    units=10,\n",
    "    kernel_initializer=weightInit,\n",
    "    bias_initializer=biasInit,\n",
    "    name=\"layer2\")\n",
    "print(layer1)\n",
    "print(layer2)"
   ]
  },
  {
   "cell_type": "code",
   "execution_count": 3,
   "metadata": {},
   "outputs": [
    {
     "name": "stdout",
     "output_type": "stream",
     "text": [
      "['layer1', 'Relu:0']\n",
      "[[ 0.16992874  0.01197213  0.36192554  0.0591569  -0.20750684 -0.22655027\n",
      "  -0.18541341 -0.4273105   0.26038256 -0.45656356]\n",
      " [-0.02243599 -0.49164519 -0.0841213  -0.15602711 -0.08986225  0.27913597\n",
      "   0.07062607  0.25944686  0.1408809  -0.04063709]\n",
      " [ 0.29869562 -0.48284405  0.02763528 -0.17794064 -0.30503821 -0.45014831\n",
      "   0.37438136 -0.1167101   0.10004532  0.32514945]\n",
      " [ 0.04463332 -0.12825127 -0.25907627 -0.45177636  0.82269514  0.10696755\n",
      "  -0.38046953  0.04074315 -0.07217482  0.0673567 ]\n",
      " [ 0.02608181 -0.09284896 -0.11179401  0.08313446 -0.04769123 -0.09348185\n",
      "   0.26415065 -0.05474265 -0.60625774  0.03391304]\n",
      " [-0.18430126  0.29452726  0.05915898 -0.14767724 -1.08622825  0.06202028\n",
      "   0.48784766 -0.51457369 -0.01093357 -0.6405893 ]\n",
      " [-0.02294542  0.44684213 -0.07744469  0.01049177 -0.51652515  0.39553627\n",
      "  -0.06715181 -0.05279422 -0.14127724 -0.17574647]\n",
      " [ 0.46025378  0.20547587  0.11599309 -0.11030002 -0.03425111  0.13630699\n",
      "   0.09994489  1.16103733 -0.0494228   0.44983962]\n",
      " [ 0.2449342  -0.3784574  -0.14434388  0.14345784 -0.09962133  0.14094199\n",
      "   0.85423005  0.3222326  -0.26240978  0.02367081]\n",
      " [-0.11176905  0.02724092  0.25440574 -0.20519374 -0.35082012 -0.31156278\n",
      "  -0.53862405 -0.10955986 -0.01729257  0.28492957]]\n",
      "[-0.14170817 -0.16538776 -0.12658246  0.00106108  0.15249275  0.03947929\n",
      "  0.07000243 -0.04238439  0.00987612  0.1678517 ]\n"
     ]
    }
   ],
   "source": [
    "weightNode = tf.get_default_graph().get_tensor_by_name(layer1.name.split(\"/\")[0] + '/kernel:0')\n",
    "biasNode = tf.get_default_graph().get_tensor_by_name(\"layer1/bias:0\")\n",
    "session = tf.Session()\n",
    "session.run(tf.global_variables_initializer())\n",
    "w = session.run(weightNode)\n",
    "b = session.run(biasNode)\n",
    "print(layer1.name.split(\"/\"))\n",
    "print(w)\n",
    "print(b)"
   ]
  },
  {
   "cell_type": "code",
   "execution_count": 4,
   "metadata": {},
   "outputs": [
    {
     "name": "stdout",
     "output_type": "stream",
     "text": [
      "[[  4.06752765e-01  -1.30244255e-01   1.55982211e-01  -1.33251414e-01\n",
      "   -8.08361620e-02   3.46031755e-01  -2.11935788e-02  -2.94376105e-01\n",
      "    1.93580151e-01  -6.75411616e-03]\n",
      " [  2.02705152e-02  -5.99584766e-02  -1.69182375e-01   2.05362394e-01\n",
      "    8.89060423e-02   6.40599787e-01  -8.73278901e-02   1.15140237e-01\n",
      "    2.25887030e-01   3.85943383e-01]\n",
      " [ -5.59784234e-01   5.71722491e-03   1.56212717e-01  -1.18545406e-01\n",
      "   -5.28839901e-02   3.40731502e-01  -1.29500136e-01  -4.46095735e-01\n",
      "    1.05790386e-03   5.51070392e-01]\n",
      " [  4.43500906e-01   4.00054492e-02   1.90060940e-02  -1.83902040e-01\n",
      "    1.09938551e-02  -1.93464775e-02  -4.35339391e-01   1.79096144e-02\n",
      "    8.41308832e-02  -2.77414262e-01]\n",
      " [  1.72994345e-01  -2.09038891e-02  -8.30435753e-02   2.43062824e-01\n",
      "    7.14826137e-02  -3.48567128e-01  -2.56292820e-01   3.50998789e-01\n",
      "    5.46582937e-01   1.92164391e-01]\n",
      " [  2.58086860e-01  -5.20826578e-02  -2.05752566e-01   3.78835499e-01\n",
      "   -2.32211882e-04   6.80747330e-02  -4.10487086e-01  -2.20047504e-01\n",
      "   -1.48059189e-01  -1.79161802e-02]\n",
      " [  3.86723906e-01   3.35949659e-01   9.15313438e-02   2.53782570e-01\n",
      "   -3.77546728e-01  -1.66001767e-01  -2.44446084e-01  -2.29787290e-01\n",
      "   -1.08873531e-01  -4.97187585e-01]\n",
      " [  1.27433062e-01   2.11789608e-01   1.68177590e-01  -8.83672535e-02\n",
      "    2.45114967e-01  -1.45305321e-01   3.96624923e-01  -1.05981402e-01\n",
      "    2.15496346e-01  -2.78874755e-01]\n",
      " [  9.07219887e-01  -1.02905534e-01   1.30691612e-02  -3.54772270e-01\n",
      "   -5.91519117e-01   3.14680994e-01   1.39340356e-01  -3.02527159e-01\n",
      "    1.12963803e-02  -4.23447460e-01]\n",
      " [ -2.04716008e-02  -2.13944897e-01   1.03462286e-01   2.76421100e-01\n",
      "    1.98145479e-01   2.22107530e-01  -5.65037668e-01   8.52122456e-02\n",
      "   -8.99996888e-03  -1.83740318e-01]]\n",
      "[ 0.03795314  0.02500043  0.08679309  0.0737138  -0.14367782  0.01934313\n",
      "  0.09118177  0.00978615  0.12326918  0.12428159]\n"
     ]
    }
   ],
   "source": [
    "weightNode = tf.get_default_graph().get_tensor_by_name(layer2.name.split(\"/\")[0] + '/kernel:0')\n",
    "biasNode = tf.get_default_graph().get_tensor_by_name(\"layer2/bias:0\")\n",
    "session = tf.Session()\n",
    "session.run(tf.global_variables_initializer())\n",
    "w = session.run(weightNode)\n",
    "b = session.run(biasNode)\n",
    "print(w)\n",
    "print(b)"
   ]
  },
  {
   "cell_type": "markdown",
   "metadata": {},
   "source": [
    "# 結論\n",
    "---\n",
    "1. Weight & Bias 經過 initiallizer 之後，就算使用相同的 initializer，也會不同\n",
    "2. 不能使用 get_variable 來拿 dense 的資料，只能使用 get_default_graph().get_tensor_by_name(\"名字\")"
   ]
  }
 ],
 "metadata": {
  "kernelspec": {
   "display_name": "Python 3",
   "language": "python",
   "name": "python3"
  },
  "language_info": {
   "codemirror_mode": {
    "name": "ipython",
    "version": 3
   },
   "file_extension": ".py",
   "mimetype": "text/x-python",
   "name": "python",
   "nbconvert_exporter": "python",
   "pygments_lexer": "ipython3",
   "version": "3.6.3"
  }
 },
 "nbformat": 4,
 "nbformat_minor": 2
}
