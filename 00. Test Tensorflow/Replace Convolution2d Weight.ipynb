{
 "cells": [
  {
   "cell_type": "markdown",
   "metadata": {},
   "source": [
    "# Replace Convolution2d Weight\n",
    "---"
   ]
  },
  {
   "cell_type": "code",
   "execution_count": 1,
   "metadata": {},
   "outputs": [],
   "source": [
    "%matplotlib inline\n",
    "import tensorflow as tf\n",
    "import matplotlib.pyplot as plt\n",
    "import numpy as np"
   ]
  },
  {
   "cell_type": "code",
   "execution_count": 2,
   "metadata": {},
   "outputs": [],
   "source": [
    "# 亂數 Init\n",
    "weightInit = tf.random_normal_initializer(0, 0.3)\n",
    "biasInit = tf.random_normal_initializer(0, 0.1)"
   ]
  },
  {
   "cell_type": "code",
   "execution_count": 3,
   "metadata": {
    "scrolled": true
   },
   "outputs": [
    {
     "name": "stdout",
     "output_type": "stream",
     "text": [
      "Tensor(\"Test1_Layer1/Relu:0\", shape=(?, 1, 1, 2), dtype=float32)\n",
      "Tensor(\"Test2_Layer1/Relu:0\", shape=(?, 1, 1, 2), dtype=float32)\n"
     ]
    }
   ],
   "source": [
    "input = tf.placeholder(\n",
    "    tf.float32,\n",
    "    [None, 3, 3, 1]\n",
    ")\n",
    "\n",
    "# 兩個測試網路\n",
    "t1layer1 = tf.layers.conv2d(\n",
    "    inputs=input,\n",
    "    filters=2,\n",
    "    kernel_size=3,\n",
    "    strides=1,\n",
    "    kernel_initializer=weightInit,\n",
    "    bias_initializer=biasInit,\n",
    "    activation=tf.nn.relu,\n",
    "    name=\"Test1_Layer1\"\n",
    ")\n",
    "print(t1layer1)\n",
    "t2layer1 = tf.layers.conv2d(\n",
    "    inputs=input,\n",
    "    filters=2,\n",
    "    kernel_size=3,\n",
    "    strides=1,\n",
    "    kernel_initializer=weightInit,\n",
    "    bias_initializer=biasInit,\n",
    "    activation=tf.nn.relu,\n",
    "    name=\"Test2_Layer1\"\n",
    ")\n",
    "print(t2layer1)"
   ]
  },
  {
   "cell_type": "code",
   "execution_count": 4,
   "metadata": {},
   "outputs": [],
   "source": [
    "session = tf.Session()\n",
    "session.run(tf.global_variables_initializer())"
   ]
  },
  {
   "cell_type": "code",
   "execution_count": 5,
   "metadata": {},
   "outputs": [],
   "source": [
    "def PrintWeight(name):\n",
    "    weightNode = session.graph.get_tensor_by_name(name + \"/kernel:0\")\n",
    "    biasNode = session.graph.get_tensor_by_name(name + \"/bias:0\")\n",
    "    \n",
    "    # 拿出結果\n",
    "    weightValue = session.run(weightNode)\n",
    "    biasValue = session.run(biasNode)\n",
    "    \n",
    "    print(\"Weight:\")\n",
    "    \n",
    "    # 因為有兩個 Filter 所以要切兩個\n",
    "    fig, axes = plt.subplots(1, 2)\n",
    "    for i in range(0, 2):\n",
    "        # 顯示圖片，並限制最大最小值\n",
    "        im = axes[i].imshow(np.reshape(weightValue[:, :, :, i], [3, 3]), cmap='seismic', vmin=-1, vmax = 1)\n",
    "        \n",
    "    # 增加寬度\n",
    "    fig.subplots_adjust(wspace=0.3)\n",
    "    \n",
    "    # 增加 Colorbar 的軸，上面的四個值分別是[左，右，寬，高]，測出來的\n",
    "    colorbarAxes = fig.add_axes([0.95, 0.2, 0.02, 0.6])\n",
    "    colorbar = fig.colorbar(im, cax=colorbarAxes)\n",
    "    \n",
    "    # 設定右邊要顯示的值\n",
    "    colorbar.set_ticks([-1, 0 , 1])\n",
    "    colorbar.set_ticklabels(['-1', '0' , '1'])\n",
    "    \n",
    "    # 顯示圖片 \n",
    "    plt.show()\n",
    "        \n",
    "    print(\"Bias:\")\n",
    "    print(biasValue)"
   ]
  },
  {
   "cell_type": "code",
   "execution_count": 6,
   "metadata": {
    "scrolled": false
   },
   "outputs": [],
   "source": [
    "def PrintAll():\n",
    "    print(\"Layer1\")\n",
    "    PrintWeight(\"Test1_Layer1\")\n",
    "    print()\n",
    "    print()\n",
    "    print()\n",
    "    print(\"Layer2\")\n",
    "    PrintWeight(\"Test2_Layer1\")"
   ]
  },
  {
   "cell_type": "code",
   "execution_count": 7,
   "metadata": {},
   "outputs": [
    {
     "name": "stdout",
     "output_type": "stream",
     "text": [
      "Layer1\n",
      "Weight:\n"
     ]
    },
    {
     "data": {
      "image/png": "[encoded data removed]",
      "text/plain": [
       "<matplotlib.figure.Figure at 0x1b2ddec47f0>"
      ]
     },
     "metadata": {},
     "output_type": "display_data"
    },
    {
     "name": "stdout",
     "output_type": "stream",
     "text": [
      "Bias:\n",
      "[-0.05193079 -0.02034139]\n",
      "\n",
      "\n",
      "\n",
      "Layer2\n",
      "Weight:\n"
     ]
    },
    {
     "data": {
      "image/png": "[encoded data removed]",
      "text/plain": [
       "<matplotlib.figure.Figure at 0x1b370969c88>"
      ]
     },
     "metadata": {},
     "output_type": "display_data"
    },
    {
     "name": "stdout",
     "output_type": "stream",
     "text": [
      "Bias:\n",
      "[-0.01748135 -0.15751819]\n"
     ]
    }
   ],
   "source": [
    "PrintAll()"
   ]
  },
  {
   "cell_type": "code",
   "execution_count": 8,
   "metadata": {},
   "outputs": [
    {
     "name": "stdout",
     "output_type": "stream",
     "text": [
      "Tensor(\"Test1_Layer1/kernel:0\", shape=(3, 3, 1, 2), dtype=float32_ref)\n",
      "Tensor(\"Test1_Layer1/bias:0\", shape=(2,), dtype=float32_ref)\n",
      "Tensor(\"Test2_Layer1/kernel:0\", shape=(3, 3, 1, 2), dtype=float32_ref)\n",
      "Tensor(\"Test2_Layer1/bias:0\", shape=(2,), dtype=float32_ref)\n"
     ]
    }
   ],
   "source": [
    "# 拿 Node\n",
    "t1weightNode = session.graph.get_tensor_by_name(\"Test1_Layer1/kernel:0\")\n",
    "t1biasNode = session.graph.get_tensor_by_name(\"Test1_Layer1/bias:0\")\n",
    "t2weightNode = session.graph.get_tensor_by_name(\"Test2_Layer1/kernel:0\")\n",
    "t2biasNode = session.graph.get_tensor_by_name(\"Test2_Layer1/bias:0\")\n",
    "\n",
    "print(t1weightNode)\n",
    "print(t1biasNode)\n",
    "print(t2weightNode)\n",
    "print(t2biasNode)\n",
    "\n",
    "# 取代\n",
    "assignWeightNode = tf.assign(t2weightNode, t1weightNode)\n",
    "assignBiasNode = tf.assign(t2biasNode, t1biasNode)\n",
    "session.run([assignWeightNode, assignBiasNode]);"
   ]
  },
  {
   "cell_type": "code",
   "execution_count": 9,
   "metadata": {},
   "outputs": [
    {
     "name": "stdout",
     "output_type": "stream",
     "text": [
      "Layer1\n",
      "Weight:\n"
     ]
    },
    {
     "data": {
      "image/png": "[encoded data removed]",
      "text/plain": [
       "<matplotlib.figure.Figure at 0x1b370ad9b38>"
      ]
     },
     "metadata": {},
     "output_type": "display_data"
    },
    {
     "name": "stdout",
     "output_type": "stream",
     "text": [
      "Bias:\n",
      "[-0.05193079 -0.02034139]\n",
      "\n",
      "\n",
      "\n",
      "Layer2\n",
      "Weight:\n"
     ]
    },
    {
     "data": {
      "image/png": "[encoded data removed]",
      "text/plain": [
       "<matplotlib.figure.Figure at 0x1b370bd6630>"
      ]
     },
     "metadata": {},
     "output_type": "display_data"
    },
    {
     "name": "stdout",
     "output_type": "stream",
     "text": [
      "Bias:\n",
      "[-0.05193079 -0.02034139]\n"
     ]
    }
   ],
   "source": [
    "PrintAll()"
   ]
  }
 ],
 "metadata": {
  "kernelspec": {
   "display_name": "Python 3",
   "language": "python",
   "name": "python3"
  },
  "language_info": {
   "codemirror_mode": {
    "name": "ipython",
    "version": 3
   },
   "file_extension": ".py",
   "mimetype": "text/x-python",
   "name": "python",
   "nbconvert_exporter": "python",
   "pygments_lexer": "ipython3",
   "version": "3.6.3"
  }
 },
 "nbformat": 4,
 "nbformat_minor": 2
}
