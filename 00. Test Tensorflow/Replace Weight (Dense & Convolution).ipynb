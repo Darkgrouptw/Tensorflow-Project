{
 "cells": [
  {
   "cell_type": "markdown",
   "metadata": {},
   "source": [
    "# Replace Weight(Dense & Convolution2d)\n",
    "---"
   ]
  },
  {
   "cell_type": "code",
   "execution_count": 1,
   "metadata": {},
   "outputs": [],
   "source": [
    "import tensorflow as tf"
   ]
  },
  {
   "cell_type": "code",
   "execution_count": 2,
   "metadata": {},
   "outputs": [],
   "source": [
    "# 亂數 Init\n",
    "weightInit = tf.random_normal_initializer(0, 0.3)\n",
    "biasInit = tf.random_normal_initializer(0, 0.1)"
   ]
  },
  {
   "cell_type": "code",
   "execution_count": 3,
   "metadata": {},
   "outputs": [
    {
     "name": "stdout",
     "output_type": "stream",
     "text": [
      "Tensor(\"Test1_Layer1/Relu:0\", shape=(?, 2), dtype=float32)\n",
      "Tensor(\"Test2_Layer1/Relu:0\", shape=(?, 2), dtype=float32)\n"
     ]
    }
   ],
   "source": [
    "input = tf.placeholder(\n",
    "    tf.float32,\n",
    "    [None, 2]\n",
    ")\n",
    "\n",
    "# 兩個測試網路\n",
    "t1layer1 = tf.layers.dense(\n",
    "    inputs=input,\n",
    "    units=2,\n",
    "    kernel_initializer=weightInit,\n",
    "    bias_initializer=biasInit,\n",
    "    activation=tf.nn.relu,\n",
    "    name=\"Test1_Layer1\"\n",
    ")\n",
    "print(t1layer1)\n",
    "t2layer1 = tf.layers.dense(\n",
    "    inputs=input,\n",
    "    units=2,\n",
    "    kernel_initializer=weightInit,\n",
    "    bias_initializer=biasInit,\n",
    "    activation=tf.nn.relu,\n",
    "    name=\"Test2_Layer1\"\n",
    ")\n",
    "print(t2layer1)"
   ]
  },
  {
   "cell_type": "code",
   "execution_count": 4,
   "metadata": {},
   "outputs": [],
   "source": [
    "session = tf.Session()\n",
    "session.run(tf.global_variables_initializer())"
   ]
  },
  {
   "cell_type": "code",
   "execution_count": 5,
   "metadata": {},
   "outputs": [],
   "source": [
    "def PrintWeight(name):\n",
    "    weightNode = tf.get_default_graph().get_tensor_by_name(name + \"/kernel:0\")\n",
    "    biasNode = tf.get_default_graph().get_tensor_by_name(name + \"/bias:0\")\n",
    "    print(\"Weight:\")\n",
    "    print(session.run(weightNode))\n",
    "    print(\"Bias:\")\n",
    "    print(session.run(biasNode))"
   ]
  },
  {
   "cell_type": "code",
   "execution_count": 6,
   "metadata": {
    "scrolled": true
   },
   "outputs": [
    {
     "name": "stdout",
     "output_type": "stream",
     "text": [
      "Layer1\n",
      "Weight:\n",
      "[[ 0.66391838  0.03834835]\n",
      " [ 0.08722334  0.50129616]]\n",
      "Bias:\n",
      "[ 0.06785157 -0.00589838]\n",
      "None\n",
      "\n",
      "Layer2\n",
      "Weight:\n",
      "[[ 0.4616209   0.74776053]\n",
      " [ 0.21319492  0.23003606]]\n",
      "Bias:\n",
      "[ 0.03627452 -0.0543022 ]\n",
      "None\n"
     ]
    }
   ],
   "source": [
    "print(\"Layer1\")\n",
    "print(PrintWeight(\"Test1_Layer1\"))\n",
    "print()\n",
    "print(\"Layer2\")\n",
    "print(PrintWeight(\"Test2_Layer1\"))"
   ]
  },
  {
   "cell_type": "code",
   "execution_count": 7,
   "metadata": {},
   "outputs": [
    {
     "name": "stdout",
     "output_type": "stream",
     "text": [
      "Tensor(\"Test1_Layer1/kernel:0\", shape=(2, 2), dtype=float32_ref)\n",
      "Tensor(\"Test1_Layer1/bias:0\", shape=(2,), dtype=float32_ref)\n",
      "Tensor(\"Test2_Layer1/kernel:0\", shape=(2, 2), dtype=float32_ref)\n",
      "Tensor(\"Test2_Layer1/bias:0\", shape=(2,), dtype=float32_ref)\n"
     ]
    },
    {
     "data": {
      "text/plain": [
       "[array([[ 0.66391838,  0.03834835],\n",
       "        [ 0.08722334,  0.50129616]], dtype=float32),\n",
       " array([ 0.06785157, -0.00589838], dtype=float32)]"
      ]
     },
     "execution_count": 7,
     "metadata": {},
     "output_type": "execute_result"
    }
   ],
   "source": [
    "# 拿 Node\n",
    "t1weightNode = session.graph.get_tensor_by_name(\"Test1_Layer1/kernel:0\")\n",
    "t1biasNode = session.graph.get_tensor_by_name(\"Test1_Layer1/bias:0\")\n",
    "t2weightNode = session.graph.get_tensor_by_name(\"Test2_Layer1/kernel:0\")\n",
    "t2biasNode = session.graph.get_tensor_by_name(\"Test2_Layer1/bias:0\")\n",
    "\n",
    "print(t1weightNode)\n",
    "print(t1biasNode)\n",
    "print(t2weightNode)\n",
    "print(t2biasNode)\n",
    "\n",
    "# 取代\n",
    "assignWeightNode = tf.assign(t2weightNode, t1weightNode)\n",
    "assignBiasNode = tf.assign(t2biasNode, t1biasNode)\n",
    "session.run([assignWeightNode, assignBiasNode])"
   ]
  },
  {
   "cell_type": "code",
   "execution_count": 8,
   "metadata": {},
   "outputs": [
    {
     "name": "stdout",
     "output_type": "stream",
     "text": [
      "Layer1\n",
      "Weight:\n",
      "[[ 0.66391838  0.03834835]\n",
      " [ 0.08722334  0.50129616]]\n",
      "Bias:\n",
      "[ 0.06785157 -0.00589838]\n",
      "None\n",
      "\n",
      "Layer2\n",
      "Weight:\n",
      "[[ 0.66391838  0.03834835]\n",
      " [ 0.08722334  0.50129616]]\n",
      "Bias:\n",
      "[ 0.06785157 -0.00589838]\n",
      "None\n"
     ]
    }
   ],
   "source": [
    "print(\"Layer1\")\n",
    "print(PrintWeight(\"Test1_Layer1\"))\n",
    "print()\n",
    "print(\"Layer2\")\n",
    "print(PrintWeight(\"Test2_Layer1\"))"
   ]
  }
 ],
 "metadata": {
  "kernelspec": {
   "display_name": "Python 3",
   "language": "python",
   "name": "python3"
  },
  "language_info": {
   "codemirror_mode": {
    "name": "ipython",
    "version": 3
   },
   "file_extension": ".py",
   "mimetype": "text/x-python",
   "name": "python",
   "nbconvert_exporter": "python",
   "pygments_lexer": "ipython3",
   "version": "3.6.3"
  }
 },
 "nbformat": 4,
 "nbformat_minor": 2
}
