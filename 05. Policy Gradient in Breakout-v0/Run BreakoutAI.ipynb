{
 "cells": [
  {
   "cell_type": "markdown",
   "metadata": {},
   "source": [
    "# Policy Gradient 套用到 Breakout 上\n",
    "---\n",
    "注意！！  \n",
    "Breakout 只能在 linux or mac 上面跑  "
   ]
  },
  {
   "cell_type": "code",
   "execution_count": 1,
   "metadata": {},
   "outputs": [
    {
     "name": "stderr",
     "output_type": "stream",
     "text": [
      "/Library/Frameworks/Python.framework/Versions/3.6/lib/python3.6/importlib/_bootstrap.py:219: RuntimeWarning: compiletime version 3.5 of module 'tensorflow.python.framework.fast_tensor_util' does not match runtime version 3.6\n",
      "  return f(*args, **kwds)\n"
     ]
    }
   ],
   "source": [
    "%matplotlib inline\n",
    "import matplotlib.pyplot as plt\n",
    "import numpy as np\n",
    "import gym\n",
    "from datetime import timedelta\n",
    "import time\n",
    "\n",
    "from skimage import transform\n",
    "from RLAgent_PolicyGradient_CNN import PolicyGradient"
   ]
  },
  {
   "cell_type": "code",
   "execution_count": 2,
   "metadata": {},
   "outputs": [
    {
     "name": "stdout",
     "output_type": "stream",
     "text": [
      "Observaton space: (210, 160, 3)\n",
      "Action: 4\n",
      "['NOOP', 'FIRE', 'RIGHT', 'LEFT']\n"
     ]
    },
    {
     "data": {
      "image/png": "[encoded data removed]",
      "text/plain": [
       "<matplotlib.figure.Figure at 0x11c56c320>"
      ]
     },
     "metadata": {},
     "output_type": "display_data"
    }
   ],
   "source": [
    "# 創建環境\n",
    "# 為了讓資料可以重複製造\n",
    "# 所以可以設定亂數\n",
    "env = gym.make(\"Breakout-v4\")\n",
    "env.seed(6)\n",
    "imgShape = env.observation_space.shape\n",
    "numAction = env.action_space.n\n",
    "\n",
    "# Print 結果\n",
    "# 記得！！ shape(0) => rows(height), shape(1) => cols(width)\n",
    "print(\"Observaton space: \" + format(imgShape))\n",
    "print(\"Action: \" + format(numAction))\n",
    "print(env.unwrapped.get_action_meanings())\n",
    "\n",
    "# 顯示測試\n",
    "img = env.reset()\n",
    "plt.imshow(img)\n",
    "plt.show()"
   ]
  },
  {
   "cell_type": "markdown",
   "metadata": {},
   "source": [
    "# 測試動作\n",
    "---"
   ]
  },
  {
   "cell_type": "code",
   "execution_count": 3,
   "metadata": {},
   "outputs": [],
   "source": [
    "# 因為 matplotlib 在顯示大的圖片會比較慢，所以 scale 一下圖會比較快\n",
    "plotScale = 10\n",
    "fontSize = 15"
   ]
  },
  {
   "cell_type": "code",
   "execution_count": 4,
   "metadata": {},
   "outputs": [],
   "source": [
    "# 分成五格看\n",
    "def ShowAction(action):\n",
    "    fig, axes = plt.subplots(1, 5)\n",
    "\n",
    "    # 顯示設定\n",
    "    # 記得！！ shape(0) => rows(height), shape(1) => cols(width)\n",
    "    fig.set_figwidth(imgShape[1] / plotScale)\n",
    "    fig.set_figheight(imgShape[0] / plotScale)\n",
    "    fig.subplots_adjust(wspace=0.5)\n",
    "\n",
    "    # 先歸零，在做第 0 個動作\n",
    "    img = env.reset()\n",
    "    axes[0].imshow(img)\n",
    "    axes[0].set_xlabel(\"Start\", fontsize = fontSize)\n",
    "    for i in range(1, 5):\n",
    "        img, reward, IsDone, Info = env.step(action)\n",
    "        axes[i].imshow(img)\n",
    "\n",
    "        info = \"Reward: \" + format(reward) + \"\\nIsDone: \" + format(IsDone) + \"\\nInfo: \" + format(Info)\n",
    "        axes[i].set_xlabel(info, fontsize = fontSize)"
   ]
  },
  {
   "cell_type": "code",
   "execution_count": 5,
   "metadata": {
    "scrolled": true
   },
   "outputs": [
    {
     "data": {
      "image/png": "[encoded data removed]",
      "text/plain": [
       "<matplotlib.figure.Figure at 0x11ca30c18>"
      ]
     },
     "metadata": {},
     "output_type": "display_data"
    }
   ],
   "source": [
    "# no-op\n",
    "ShowAction(0)"
   ]
  },
  {
   "cell_type": "code",
   "execution_count": 6,
   "metadata": {
    "scrolled": true
   },
   "outputs": [
    {
     "data": {
      "image/png": "[encoded data removed]",
      "text/plain": [
       "<matplotlib.figure.Figure at 0x11d265470>"
      ]
     },
     "metadata": {},
     "output_type": "display_data"
    }
   ],
   "source": [
    "# Fire\n",
    "ShowAction(1)"
   ]
  },
  {
   "cell_type": "code",
   "execution_count": 7,
   "metadata": {
    "scrolled": true
   },
   "outputs": [
    {
     "data": {
      "image/png": "[encoded data removed]",
      "text/plain": [
       "<matplotlib.figure.Figure at 0x11d4d87b8>"
      ]
     },
     "metadata": {},
     "output_type": "display_data"
    }
   ],
   "source": [
    "# Right\n",
    "ShowAction(2)"
   ]
  },
  {
   "cell_type": "code",
   "execution_count": 8,
   "metadata": {},
   "outputs": [
    {
     "data": {
      "image/png": "[encoded data removed]",
      "text/plain": [
       "<matplotlib.figure.Figure at 0x11d86e668>"
      ]
     },
     "metadata": {},
     "output_type": "display_data"
    }
   ],
   "source": [
    "# Left\n",
    "ShowAction(3)"
   ]
  },
  {
   "cell_type": "markdown",
   "metadata": {},
   "source": [
    "## 對圖片做處理\n",
    "---\n",
    "因為圖片太大了  \n",
    "而且 Features 也不是很多  \n",
    "所以會先轉成灰階在縮小"
   ]
  },
  {
   "cell_type": "code",
   "execution_count": 9,
   "metadata": {},
   "outputs": [
    {
     "data": {
      "image/png": "[encoded data removed]",
      "text/plain": [
       "<matplotlib.figure.Figure at 0x11db03940>"
      ]
     },
     "metadata": {},
     "output_type": "display_data"
    }
   ],
   "source": [
    "# 去掉顏色的 Feature\n",
    "def img2gray(img):\n",
    "    value = img[:, :, 0] * 0.299 + img[:, :, 1] * 0.587 + img[:, :, 2] * 0.114\n",
    "    return value\n",
    "\n",
    "# 測試顯示出來世不是灰階\n",
    "plt.imshow(img2gray(env.reset()), cmap=\"gray\")\n",
    "plt.show()"
   ]
  },
  {
   "cell_type": "code",
   "execution_count": 10,
   "metadata": {},
   "outputs": [
    {
     "name": "stdout",
     "output_type": "stream",
     "text": [
      "(105, 80)\n"
     ]
    },
    {
     "data": {
      "image/png": "[encoded data removed]",
      "text/plain": [
       "<matplotlib.figure.Figure at 0x11db32358>"
      ]
     },
     "metadata": {},
     "output_type": "display_data"
    }
   ],
   "source": [
    "# 重新縮小 k 倍\n",
    "# 記得！！ shape(0) => rows(height), shape(1) => cols(width)\n",
    "smallSize = 2\n",
    "smallSizeArray = (int(imgShape[0] / smallSize), int(imgShape[1] / smallSize))\n",
    "def reshapeImg(img):\n",
    "    smallImg = transform.resize(img, smallSizeArray, mode=\"constant\")\n",
    "    return smallImg\n",
    "\n",
    "print(smallSizeArray)\n",
    "plt.imshow(reshapeImg(img2gray(env.reset())), cmap=\"gray\")\n",
    "plt.show()"
   ]
  },
  {
   "cell_type": "code",
   "execution_count": 11,
   "metadata": {},
   "outputs": [],
   "source": [
    "# 圖片處理\n",
    "def ImagePreprocess(img):\n",
    "    grayImg = img2gray(img)\n",
    "    \n",
    "    # 如果圖片沒有這個 Scale 成 0 ~ 1，會導致輸出的結果爆掉 \n",
    "    outputImg = reshapeImg(grayImg) / 255\n",
    "    return outputImg"
   ]
  },
  {
   "cell_type": "markdown",
   "metadata": {},
   "source": [
    "## 開始見 AI 來訓練\n",
    "---"
   ]
  },
  {
   "cell_type": "code",
   "execution_count": 12,
   "metadata": {},
   "outputs": [],
   "source": [
    "# 設定輸入的參數\n",
    "# 單張輸入大小\n",
    "# 記得！！ shape(0) => rows(height), shape(1) => cols(width)\n",
    "SingleInputSize = smallSizeArray[0] * smallSizeArray[1]\n",
    "# 輸入幾張圖片\n",
    "InputImageSize = 5"
   ]
  },
  {
   "cell_type": "code",
   "execution_count": 13,
   "metadata": {},
   "outputs": [],
   "source": [
    "Agent = PolicyGradient(\n",
    "    # 試試看取消發射鍵\n",
    "    n_actions = numAction - 1,\n",
    "    imgRows = smallSizeArray[0],\n",
    "    imgCols = smallSizeArray[1],\n",
    "    imgNumber = InputImageSize,\n",
    "    imgChannel = 1,\n",
    "    LearningRate = 1e-4,\n",
    "    RewardDecay = 0.99,\n",
    "    # IsOutputGraph=True\n",
    ")"
   ]
  },
  {
   "cell_type": "code",
   "execution_count": 14,
   "metadata": {},
   "outputs": [],
   "source": [
    "Agent.RestoreModel()"
   ]
  },
  {
   "cell_type": "code",
   "execution_count": 15,
   "metadata": {},
   "outputs": [],
   "source": [
    "# 叫紀錄遊玩的過去 n 個 Frame 的資料\n",
    "# [n張圖片, 高, 寬, channel]\n",
    "PastImage = np.zeros((InputImageSize - 1, smallSizeArray[0], smallSizeArray[1], 1), dtype = np.uint8)"
   ]
  },
  {
   "cell_type": "code",
   "execution_count": 16,
   "metadata": {},
   "outputs": [],
   "source": [
    "def checkIsNoMove(ImgArray):\n",
    "    for i in range(1, InputImageSize):\n",
    "        # 是否有任何不想等的地方\n",
    "        if(np.any(ImgArray[i - 1, :, :, 0] != ImgArray[i, :, :, 0])):\n",
    "            return False\n",
    "    return True"
   ]
  },
  {
   "cell_type": "code",
   "execution_count": 17,
   "metadata": {},
   "outputs": [],
   "source": [
    "# 設定 global 的 次數\n",
    "globalStep = 0"
   ]
  },
  {
   "cell_type": "code",
   "execution_count": 18,
   "metadata": {},
   "outputs": [],
   "source": [
    "def TrainModel(epoch, IsRendering = False):\n",
    "    global PastImage, globalStep\n",
    "    \n",
    "    startTime = time.time()\n",
    "    \n",
    "    # Score List\n",
    "    scoreList = []\n",
    "    for i in range(0, epoch):\n",
    "        # 重新開始，先把 PastImage 初始化\n",
    "        observation = env.reset()\n",
    "        \n",
    "        # 處理圖片\n",
    "        processOb = ImagePreprocess(observation) \n",
    "\n",
    "        # 先產生開始圖片 n - 2 張，因為輸入要是 n 張圖片\n",
    "        # n-1 張圖要放開球的圖片\n",
    "        for picIndex in range(0, InputImageSize - 2):\n",
    "            PastImage[picIndex, :, :, 0] = processOb\n",
    "        \n",
    "        # 處理 n-1 張圖片\n",
    "        observation, reward, IsDone, Info = env.step(1)\n",
    "        processOb = ImagePreprocess(observation) \n",
    "        PastImage[InputImageSize - 2, :, :, 0] = processOb\n",
    "        \n",
    "        if(IsRendering):\n",
    "            env.render()\n",
    "        \n",
    "        while True:\n",
    "            # 產生前 n 筆的資料當輸入，選擇動作\n",
    "            processObArray = np.reshape(processOb,(1, processOb.shape[0], processOb.shape[1], 1))\n",
    "            PastImage = np.concatenate((PastImage, processObArray), axis = 0)\n",
    "\n",
    "            # 因為輸入是多張 2 維的圖片，所以要把他攤平輸入\n",
    "            action = Agent.chooseAction(observation = PastImage)\n",
    "            if(action >= 1):\n",
    "                action += 1\n",
    "            \n",
    "            if(IsRendering):\n",
    "                env.render()\n",
    "\n",
    "            # 執行\n",
    "            nextOberservation, reward, IsDone, Info = env.step(action)\n",
    "\n",
    "            nextProcessOb = ImagePreprocess(nextOberservation)\n",
    "\n",
    "            # 存到 Memory 裡\n",
    "            Agent.storeTransition(\n",
    "                observation = PastImage,\n",
    "                reward = reward,\n",
    "                action = action\n",
    "            )\n",
    "                    \n",
    "            \n",
    "            # 如果命用完了，或是一直掛機，就會跑到 IsDone\n",
    "            # 先設定他失敗一次之後就結束\n",
    "            if(IsDone or env.unwrapped.ale.lives() != 5):\n",
    "                # 分數部分\n",
    "                score = np.sum(Agent.MemoryReward)\n",
    "                \n",
    "                # 學習\n",
    "                if(score != 0):\n",
    "                    globalStep += 1\n",
    "                    Agent.learn()\n",
    "                \n",
    "                    # 最後顯示分數走向用的\n",
    "                    scoreList.append(score)\n",
    "                \n",
    "                # 並刪掉最前面的 Image\n",
    "                PastImage = np.delete(PastImage, 0, 0)\n",
    "                break\n",
    "\n",
    "            # 覆蓋掉以前的部分\n",
    "            processOb = nextProcessOb\n",
    "\n",
    "            # 並刪掉最前面的 Image\n",
    "            PastImage = np.delete(PastImage, 0, 0)\n",
    "    \n",
    "    # 訓練結束，把資料刪掉\n",
    "    if(IsRendering):\n",
    "        env.render(close = True)\n",
    "    \n",
    "    # 顯示分數走向\n",
    "    plt.title(format(globalStep - epoch) + \" ~ \" + format(globalStep))\n",
    "    plt.plot(scoreList)\n",
    "    plt.show()\n",
    "    \n",
    "    # 列印出時間\n",
    "    endTime = time.time()\n",
    "    time_diff = endTime - startTime\n",
    "    print(\"Time usage: \" + str(timedelta(seconds=int(round(time_diff)))))"
   ]
  },
  {
   "cell_type": "code",
   "execution_count": null,
   "metadata": {},
   "outputs": [],
   "source": [
    "def RunModel():\n",
    "    global PastImage\n",
    "    \n",
    "    # 重新開始，先把 PastImage 初始化\n",
    "    observation = env.reset()\n",
    "    \n",
    "    # 處理圖片\n",
    "    processOb = ImagePreprocess(observation) \n",
    "\n",
    "    # 先產生開始圖片 n - 2 張，因為輸入要是 n 張圖片\n",
    "    # n-1 張圖要放開球的圖片\n",
    "    for picIndex in range(0, InputImageSize - 2):\n",
    "        PastImage[picIndex, :, :, 0] = processOb\n",
    "    \n",
    "    # 處理 n-1 張圖片\n",
    "    observation, reward, IsDone, Info = env.step(1)\n",
    "    processOb = ImagePreprocess(observation) \n",
    "    PastImage[InputImageSize - 2, :, :, 0] = processOb\n",
    "    \n",
    "    env.render()\n",
    "        \n",
    "    while True:\n",
    "        # 產生前 n 筆的資料當輸入，選擇動作\n",
    "        processObArray = np.reshape(processOb,(1, processOb.shape[0], processOb.shape[1], 1))\n",
    "        PastImage = np.concatenate((PastImage, processObArray), axis = 0)\n",
    "\n",
    "        # 因為輸入是多張 2 維的圖片，所以要把他攤平輸入\n",
    "        action = Agent.chooseAction(observation = PastImage)\n",
    "        if(action >= 1):\n",
    "            action += 1\n",
    "        env.render()\n",
    "\n",
    "        # 執行\n",
    "        nextOberservation, reward, IsDone, Info = env.step(action)\n",
    "        nextProcessOb = ImagePreprocess(nextOberservation)\n",
    "        \n",
    "        # 如果命用完了，或是一直掛機，就會跑到 IsDone\n",
    "        # 先設定他失敗一次之後就結束\n",
    "        if(IsDone or env.unwrapped.ale.lives() != 5):\n",
    "            # 並刪掉最前面的 Image\n",
    "            PastImage = np.delete(PastImage, 0, 0)\n",
    "            break\n",
    "\n",
    "        # 覆蓋掉以前的部分\n",
    "        processOb = nextProcessOb\n",
    "\n",
    "        # 並刪掉最前面的 Image\n",
    "        PastImage = np.delete(PastImage, 0, 0)\n",
    "    \n",
    "    # 訓練結束，把資料刪掉\n",
    "    env.render(close = True)"
   ]
  },
  {
   "cell_type": "code",
   "execution_count": null,
   "metadata": {
    "scrolled": true
   },
   "outputs": [
    {
     "data": {
      "image/png": "[encoded data removed]",
      "text/plain": [
       "<matplotlib.figure.Figure at 0x11dca4ef0>"
      ]
     },
     "metadata": {},
     "output_type": "display_data"
    },
    {
     "name": "stdout",
     "output_type": "stream",
     "text": [
      "Time usage: 0:22:13\n"
     ]
    },
    {
     "data": {
      "image/png": "[encoded data removed]",
      "text/plain": [
       "<matplotlib.figure.Figure at 0x11cb64048>"
      ]
     },
     "metadata": {},
     "output_type": "display_data"
    },
    {
     "name": "stdout",
     "output_type": "stream",
     "text": [
      "Time usage: 0:16:16\n"
     ]
    }
   ],
   "source": [
    "# 每 100 存一個 Model\n",
    "# 執行 10000次\n",
    "for i in range(0, 100):\n",
    "    TrainModel(\n",
    "        100,\n",
    "        # IsRendering = True\n",
    "    )\n",
    "    Agent.SaveModel(globalStep)"
   ]
  },
  {
   "cell_type": "code",
   "execution_count": null,
   "metadata": {},
   "outputs": [],
   "source": [
    "# Test Result\n",
    "#PastImage = np.zeros((InputImageSize - 1, smallSizeArray[0], smallSizeArray[1], 1), dtype = np.uint8)\n",
    "#RunModel()"
   ]
  }
 ],
 "metadata": {
  "kernelspec": {
   "display_name": "Python 3",
   "language": "python",
   "name": "python3"
  },
  "language_info": {
   "codemirror_mode": {
    "name": "ipython",
    "version": 3
   },
   "file_extension": ".py",
   "mimetype": "text/x-python",
   "name": "python",
   "nbconvert_exporter": "python",
   "pygments_lexer": "ipython3",
   "version": "3.6.3"
  }
 },
 "nbformat": 4,
 "nbformat_minor": 2
}
