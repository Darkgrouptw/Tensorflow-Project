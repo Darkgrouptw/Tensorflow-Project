{
 "cells": [
  {
   "cell_type": "markdown",
   "metadata": {},
   "source": [
    "# Jupyter Notebook 筆記\n",
    "\n",
    "## 開啟程式不要開啟瀏覽器\n",
    "\n",
    "jupyter notebook --no-browser\n",
    "\n",
    "## 有用的指令\n",
    "\n",
    "1. \\* => *斜體*\n",
    "\n",
    "2. \\*\\* =>  **凸體**\n",
    "\n",
    "3. \\*\\*\\* => ***粗體+斜體***\n",
    "\n",
    "4. \\-\\-\\- => 水平線\n",
    "---\n",
    "5. 兩個空格 + Enter 代表換行\n",
    "\n",
    "## 特別指令\n",
    "\n",
    "1. \\!  => 代表要使用**特別的指令** (EX: !pip list)\n",
    "\n",
    "2. %lsmagic => 可以顯示所有的特殊指令(% & %%)\n",
    "\n",
    "3. %matplotlib inline => 可以透過 matplotlib，讓 Jupyter Notebook 顯示圖表\n",
    "\n",
    "4. %%HTML => 直接將全部的文字變成 html\n",
    "\n",
    "5. %timeit => 看完成這個 Cell 要花多久時間的指令\n"
   ]
  },
  {
   "cell_type": "code",
   "execution_count": 1,
   "metadata": {},
   "outputs": [
    {
     "name": "stdout",
     "output_type": "stream",
     "text": [
      "bleach (1.5.0)\n",
      "colorama (0.3.9)\n",
      "cycler (0.10.0)\n",
      "decorator (4.1.2)\n",
      "entrypoints (0.2.3)\n",
      "html5lib (0.9999999)\n",
      "ipykernel (4.6.1)\n",
      "ipython (6.2.1)\n",
      "ipython-genutils (0.2.0)\n",
      "ipywidgets (7.0.2)\n",
      "jedi (0.11.0)\n",
      "Jinja2 (2.9.6)\n",
      "jsonschema (2.6.0)\n",
      "jupyter (1.0.0)\n",
      "jupyter-client (5.1.0)\n",
      "jupyter-console (5.2.0)\n",
      "jupyter-core (4.3.0)\n",
      "Markdown (2.6.9)\n",
      "MarkupSafe (1.0)\n",
      "matplotlib (2.1.0)\n",
      "mistune (0.7.4)\n",
      "nbconvert (5.3.1)\n",
      "nbformat (4.4.0)\n",
      "notebook (5.2.0)\n",
      "numpy (1.13.3)\n",
      "pandocfilters (1.4.2)\n",
      "parso (0.1.0)\n",
      "pickleshare (0.7.4)\n",
      "pip (9.0.1)\n",
      "prompt-toolkit (1.0.15)\n",
      "protobuf (3.4.0)\n",
      "Pygments (2.2.0)\n",
      "pyparsing (2.2.0)\n",
      "python-dateutil (2.6.1)\n",
      "pytz (2017.2)\n",
      "pyzmq (16.0.2)\n",
      "qtconsole (4.3.1)\n",
      "setuptools (28.8.0)\n",
      "simplegeneric (0.8.1)\n",
      "six (1.11.0)\n",
      "tensorflow-gpu (1.3.0)\n",
      "tensorflow-tensorboard (0.1.8)\n",
      "testpath (0.3.1)\n",
      "tornado (4.5.2)\n",
      "traitlets (4.3.2)\n",
      "wcwidth (0.1.7)\n",
      "Werkzeug (0.12.2)\n",
      "wheel (0.30.0)\n",
      "widgetsnbextension (3.0.4)\n"
     ]
    },
    {
     "name": "stderr",
     "output_type": "stream",
     "text": [
      "DEPRECATION: The default format will switch to columns in the future. You can use --format=(legacy|columns) (or define a format=(legacy|columns) in your pip.conf under the [list] section) to disable this warning.\n"
     ]
    }
   ],
   "source": [
    "!pip list"
   ]
  },
  {
   "cell_type": "code",
   "execution_count": 2,
   "metadata": {},
   "outputs": [
    {
     "data": {
      "application/json": {
       "cell": {
        "!": "OSMagics",
        "HTML": "Other",
        "SVG": "Other",
        "bash": "Other",
        "capture": "ExecutionMagics",
        "cmd": "Other",
        "debug": "ExecutionMagics",
        "file": "Other",
        "html": "DisplayMagics",
        "javascript": "DisplayMagics",
        "js": "DisplayMagics",
        "latex": "DisplayMagics",
        "markdown": "DisplayMagics",
        "perl": "Other",
        "prun": "ExecutionMagics",
        "pypy": "Other",
        "python": "Other",
        "python2": "Other",
        "python3": "Other",
        "ruby": "Other",
        "script": "ScriptMagics",
        "sh": "Other",
        "svg": "DisplayMagics",
        "sx": "OSMagics",
        "system": "OSMagics",
        "time": "ExecutionMagics",
        "timeit": "ExecutionMagics",
        "writefile": "OSMagics"
       },
       "line": {
        "alias": "OSMagics",
        "alias_magic": "BasicMagics",
        "autocall": "AutoMagics",
        "automagic": "AutoMagics",
        "autosave": "KernelMagics",
        "bookmark": "OSMagics",
        "cd": "OSMagics",
        "clear": "KernelMagics",
        "cls": "KernelMagics",
        "colors": "BasicMagics",
        "config": "ConfigMagics",
        "connect_info": "KernelMagics",
        "copy": "Other",
        "ddir": "Other",
        "debug": "ExecutionMagics",
        "dhist": "OSMagics",
        "dirs": "OSMagics",
        "doctest_mode": "BasicMagics",
        "echo": "Other",
        "ed": "Other",
        "edit": "KernelMagics",
        "env": "OSMagics",
        "gui": "BasicMagics",
        "hist": "Other",
        "history": "HistoryMagics",
        "killbgscripts": "ScriptMagics",
        "ldir": "Other",
        "less": "KernelMagics",
        "load": "CodeMagics",
        "load_ext": "ExtensionMagics",
        "loadpy": "CodeMagics",
        "logoff": "LoggingMagics",
        "logon": "LoggingMagics",
        "logstart": "LoggingMagics",
        "logstate": "LoggingMagics",
        "logstop": "LoggingMagics",
        "ls": "Other",
        "lsmagic": "BasicMagics",
        "macro": "ExecutionMagics",
        "magic": "BasicMagics",
        "matplotlib": "PylabMagics",
        "mkdir": "Other",
        "more": "KernelMagics",
        "notebook": "BasicMagics",
        "page": "BasicMagics",
        "pastebin": "CodeMagics",
        "pdb": "ExecutionMagics",
        "pdef": "NamespaceMagics",
        "pdoc": "NamespaceMagics",
        "pfile": "NamespaceMagics",
        "pinfo": "NamespaceMagics",
        "pinfo2": "NamespaceMagics",
        "pip": "BasicMagics",
        "popd": "OSMagics",
        "pprint": "BasicMagics",
        "precision": "BasicMagics",
        "profile": "BasicMagics",
        "prun": "ExecutionMagics",
        "psearch": "NamespaceMagics",
        "psource": "NamespaceMagics",
        "pushd": "OSMagics",
        "pwd": "OSMagics",
        "pycat": "OSMagics",
        "pylab": "PylabMagics",
        "qtconsole": "KernelMagics",
        "quickref": "BasicMagics",
        "recall": "HistoryMagics",
        "rehashx": "OSMagics",
        "reload_ext": "ExtensionMagics",
        "ren": "Other",
        "rep": "Other",
        "rerun": "HistoryMagics",
        "reset": "NamespaceMagics",
        "reset_selective": "NamespaceMagics",
        "rmdir": "Other",
        "run": "ExecutionMagics",
        "save": "CodeMagics",
        "sc": "OSMagics",
        "set_env": "OSMagics",
        "store": "StoreMagics",
        "sx": "OSMagics",
        "system": "OSMagics",
        "tb": "ExecutionMagics",
        "time": "ExecutionMagics",
        "timeit": "ExecutionMagics",
        "unalias": "OSMagics",
        "unload_ext": "ExtensionMagics",
        "who": "NamespaceMagics",
        "who_ls": "NamespaceMagics",
        "whos": "NamespaceMagics",
        "xdel": "NamespaceMagics",
        "xmode": "BasicMagics"
       }
      },
      "text/plain": [
       "Available line magics:\n",
       "%alias  %alias_magic  %autocall  %automagic  %autosave  %bookmark  %cd  %clear  %cls  %colors  %config  %connect_info  %copy  %ddir  %debug  %dhist  %dirs  %doctest_mode  %echo  %ed  %edit  %env  %gui  %hist  %history  %killbgscripts  %ldir  %less  %load  %load_ext  %loadpy  %logoff  %logon  %logstart  %logstate  %logstop  %ls  %lsmagic  %macro  %magic  %matplotlib  %mkdir  %more  %notebook  %page  %pastebin  %pdb  %pdef  %pdoc  %pfile  %pinfo  %pinfo2  %popd  %pprint  %precision  %profile  %prun  %psearch  %psource  %pushd  %pwd  %pycat  %pylab  %qtconsole  %quickref  %recall  %rehashx  %reload_ext  %ren  %rep  %rerun  %reset  %reset_selective  %rmdir  %run  %save  %sc  %set_env  %store  %sx  %system  %tb  %time  %timeit  %unalias  %unload_ext  %who  %who_ls  %whos  %xdel  %xmode\n",
       "\n",
       "Available cell magics:\n",
       "%%!  %%HTML  %%SVG  %%bash  %%capture  %%cmd  %%debug  %%file  %%html  %%javascript  %%js  %%latex  %%markdown  %%perl  %%prun  %%pypy  %%python  %%python2  %%python3  %%ruby  %%script  %%sh  %%svg  %%sx  %%system  %%time  %%timeit  %%writefile\n",
       "\n",
       "Automagic is ON, % prefix IS NOT needed for line magics."
      ]
     },
     "execution_count": 2,
     "metadata": {},
     "output_type": "execute_result"
    }
   ],
   "source": [
    "%lsmagic"
   ]
  },
  {
   "cell_type": "code",
   "execution_count": 3,
   "metadata": {},
   "outputs": [
    {
     "data": {
      "image/png": "[encoded data removed]",
      "text/plain": [
       "<matplotlib.figure.Figure at 0x220f3abe048>"
      ]
     },
     "metadata": {},
     "output_type": "display_data"
    },
    {
     "name": "stdout",
     "output_type": "stream",
     "text": [
      "[ 0.89412065  0.79951852  0.50764894  0.61206258  0.81607885  0.98188118\n",
      "  0.74829928  0.25001936  0.71225704  0.17407432  0.60704532  0.11644955\n",
      "  0.61124965  0.61433346  0.86413988  0.90359736  0.03385492  0.23693701\n",
      "  0.36179597  0.73158878  0.22548849  0.74931386  0.78629321  0.56338246\n",
      "  0.54428286  0.1663154   0.15632991  0.18761105  0.33787304  0.10518604\n",
      "  0.50818548  0.39604233  0.89291667  0.92905753  0.09116649  0.69565447\n",
      "  0.02654048  0.51176937  0.03057621  0.59018219  0.28435855  0.85685913\n",
      "  0.22112732  0.71419747  0.79371347  0.06909653  0.00927529  0.06940685\n",
      "  0.12419637  0.6573082 ]\n",
      "10\n",
      "25\n"
     ]
    }
   ],
   "source": [
    "\"\"\"\n",
    "測試 Matplotlib\n",
    "\"\"\"\n",
    "%matplotlib inline\n",
    "import numpy as np\n",
    "import matplotlib.pyplot as plt\n",
    "\n",
    "N = 50\n",
    "x = np.random.rand(N)\n",
    "y = np.random.rand(N)\n",
    "colors = np.random.rand(N)\n",
    "area = np.pi * (15 * np.random.rand(N)) ** 2\n",
    "\n",
    "plt.scatter(x, y, s=area, c=colors, alpha=0.5)\n",
    "plt.show()\n",
    "\n",
    "\n",
    "\"\"\"\n",
    "測試\n",
    "\"\"\"\n",
    "print(np.random.rand(N))\n",
    "print(5*2)\n",
    "print(5**2)"
   ]
  },
  {
   "cell_type": "code",
   "execution_count": 4,
   "metadata": {},
   "outputs": [
    {
     "data": {
      "text/html": [
       "<iframe width=\"560\" height=\"315\" src=\"https://www.youtube.com/embed/5rrIx7yrxwQ\" frameborder=\"0\" allowfullscreen></iframe>"
      ],
      "text/plain": [
       "<IPython.core.display.HTML object>"
      ]
     },
     "metadata": {},
     "output_type": "display_data"
    }
   ],
   "source": [
    "%%HTML\n",
    "<iframe width=\"560\" height=\"315\" src=\"https://www.youtube.com/embed/5rrIx7yrxwQ\" frameborder=\"0\" allowfullscreen></iframe>"
   ]
  },
  {
   "cell_type": "code",
   "execution_count": 5,
   "metadata": {},
   "outputs": [
    {
     "name": "stdout",
     "output_type": "stream",
     "text": [
      "66.8 µs ± 1.23 µs per loop (mean ± std. dev. of 7 runs, 10000 loops each)\n"
     ]
    }
   ],
   "source": [
    "%%timeit\n",
    "square_evens = [n*n for n in range(1000)]"
   ]
  }
 ],
 "metadata": {
  "kernelspec": {
   "display_name": "Python 3",
   "language": "python",
   "name": "python3"
  },
  "language_info": {
   "codemirror_mode": {
    "name": "ipython",
    "version": 3
   },
   "file_extension": ".py",
   "mimetype": "text/x-python",
   "name": "python",
   "nbconvert_exporter": "python",
   "pygments_lexer": "ipython3",
   "version": "3.6.2"
  }
 },
 "nbformat": 4,
 "nbformat_minor": 2
}
