{
 "cells": [
  {
   "cell_type": "markdown",
   "metadata": {},
   "source": [
    "# 01.Simple Linear Model\n",
    "---\n",
    "此範例是測試線性的模型\n",
    "拿 MNIST 作為 Data Set"
   ]
  },
  {
   "cell_type": "markdown",
   "metadata": {},
   "source": [
    "## Import Library\n",
    "---"
   ]
  },
  {
   "cell_type": "code",
   "execution_count": 1,
   "metadata": {},
   "outputs": [],
   "source": [
    "%matplotlib inline\n",
    "import matplotlib.pyplot as plt                                     # 圖形相關\n",
    "import tensorflow as tf                                             # TensorFlow\n",
    "import numpy as np                                                  # 矩陣運算\n",
    "from sklearn.metrics import confusion_matrix                        # sklearn 套件下的 confusion_matrix"
   ]
  },
  {
   "cell_type": "markdown",
   "metadata": {},
   "source": [
    "## 讀測試資料\n",
    "---\n",
    "使用 MNIST 的資料來做測試  \n",
    "並設定為 One Hot Encoding 形式"
   ]
  },
  {
   "cell_type": "code",
   "execution_count": 2,
   "metadata": {},
   "outputs": [
    {
     "name": "stdout",
     "output_type": "stream",
     "text": [
      "Extracting /data/MNIST\\train-images-idx3-ubyte.gz\n",
      "Extracting /data/MNIST\\train-labels-idx1-ubyte.gz\n",
      "Extracting /data/MNIST\\t10k-images-idx3-ubyte.gz\n",
      "Extracting /data/MNIST\\t10k-labels-idx1-ubyte.gz\n"
     ]
    }
   ],
   "source": [
    "from tensorflow.examples.tutorials.mnist import input_data          # 將資料的 info 丟進input_data\n",
    "data = input_data.read_data_sets(\"/data/MNIST\", one_hot = True)     # 把資料載下來"
   ]
  },
  {
   "cell_type": "markdown",
   "metadata": {},
   "source": [
    "### One Hot Encoding\n",
    "---\n",
    "One Hot Encoding 是一種資料格式  \n",
    "假設資料有 0 ~ 9  \n",
    "將用十個 bits 來表示資料  \n",
    "其中一個 bit 是 1 代表資料屬於這類  \n",
    "其他為 0 代表資料不屬於這類"
   ]
  },
  {
   "cell_type": "code",
   "execution_count": 3,
   "metadata": {},
   "outputs": [
    {
     "data": {
      "text/plain": [
       "array([[ 0.,  0.,  0.,  0.,  0.,  0.,  0.,  1.,  0.,  0.],\n",
       "       [ 0.,  0.,  1.,  0.,  0.,  0.,  0.,  0.,  0.,  0.],\n",
       "       [ 0.,  1.,  0.,  0.,  0.,  0.,  0.,  0.,  0.,  0.],\n",
       "       [ 1.,  0.,  0.,  0.,  0.,  0.,  0.,  0.,  0.,  0.],\n",
       "       [ 0.,  0.,  0.,  0.,  1.,  0.,  0.,  0.,  0.,  0.]])"
      ]
     },
     "execution_count": 3,
     "metadata": {},
     "output_type": "execute_result"
    }
   ],
   "source": [
    "data.test.labels[0:5]"
   ]
  },
  {
   "cell_type": "markdown",
   "metadata": {},
   "source": [
    "### 將 One Hot Encoding 轉成真實資料\n",
    "---\n",
    "也就是全部資料的真實解\n",
    "\n",
    "\\[ 0.,  1.,  0.,  0.,  0.,  0.,  0.,  0.,  0.,  0.\\] => 代表 1"
   ]
  },
  {
   "cell_type": "code",
   "execution_count": 4,
   "metadata": {},
   "outputs": [
    {
     "name": "stdout",
     "output_type": "stream",
     "text": [
      "[7 2 1 0 4]\n"
     ]
    }
   ],
   "source": [
    "data.test.cls = np.array([label.argmax() for label in data.test.labels])\n",
    "print(data.test.cls[0:5])"
   ]
  },
  {
   "cell_type": "markdown",
   "metadata": {},
   "source": [
    "### 資料的維度\n",
    "---\n",
    "底下的變數是 MNIST 的資料維度"
   ]
  },
  {
   "cell_type": "code",
   "execution_count": 5,
   "metadata": {},
   "outputs": [],
   "source": [
    "img_size = 28                                                       # 長\n",
    "img_size_flat = img_size * img_size                                 # 平面轉成 1D 的資料大小\n",
    "img_shape = (img_size, img_size)                                    # 整個陣列的維度\n",
    "num_classes = 10                                                    # 總共有幾個 Class (0 ~ 10)"
   ]
  },
  {
   "cell_type": "markdown",
   "metadata": {},
   "source": [
    "## Helper Function\n",
    "---\n",
    "將圖片顯示出來"
   ]
  },
  {
   "cell_type": "code",
   "execution_count": 6,
   "metadata": {},
   "outputs": [],
   "source": [
    "def plot_images(images, ground_truth, pred_class=None):\n",
    "    assert len(images) == len(ground_truth) == 9                    # 設定只顯示九張圖\n",
    "    \n",
    "    fig, axes = plt.subplots(3, 3)                                  # 產生一章圖，只有 3 x 3\n",
    "    fig.subplots_adjust(hspace=0.3, wspace=0.3)                     # 產生間隔\n",
    "\n",
    "    for i, ax in enumerate(axes.flat):\n",
    "        ax.imshow(images[i].reshape(img_shape), cmap='binary')      # 將圖片 imshow 出來\n",
    "\n",
    "        if pred_class is None:                                      # 假設沒有預測的值時，只顯示 True 的 Label\n",
    "            xlabel = \"True: {0}\".format(ground_truth[i])\n",
    "        else:\n",
    "            xlabel = \"True: {0}, Pred: {1}\".format(ground_truth[i], pred_class[i])\n",
    "        ax.set_xlabel(xlabel)\n",
    "        \n",
    "        # 刪除坐標軸\n",
    "        ax.set_xticks([])\n",
    "        ax.set_yticks([])"
   ]
  },
  {
   "cell_type": "markdown",
   "metadata": {},
   "source": [
    "## 測試 Helper Function\n",
    "---"
   ]
  },
  {
   "cell_type": "code",
   "execution_count": 7,
   "metadata": {},
   "outputs": [
    {
     "data": {
      "image/png": "[encoded data removed]",
      "text/plain": [
       "<matplotlib.figure.Figure at 0x293fdb669b0>"
      ]
     },
     "metadata": {},
     "output_type": "display_data"
    }
   ],
   "source": [
    "# 拿前九張圖片\n",
    "images = data.test.images[0:9]\n",
    "\n",
    "# 給正確的 Ground Truth\n",
    "ground_truth = data.test.cls[0:9]\n",
    "\n",
    "# 測試 image 跟 Ground Truth\n",
    "plot_images(images, ground_truth)"
   ]
  },
  {
   "cell_type": "markdown",
   "metadata": {},
   "source": [
    "## Tensorflow 須知\n",
    "---\n",
    "1. 整個架構都圍繞 Computation Graph，而裡面在做的事情是\n",
    "    1. 先建造 Graph  \n",
    "    2. 在跑出結果\n",
    "2. tf.Session(NODE)  \n",
    "=> 是執行 Computation Graph 時，需要用的函數，NODE是要執行的節點數\n",
    "3. tf.placeholder(tf.float32)  \n",
    "=> 建立一個 Node，一開始先不給資料，只設定它的型態，執行 Session 時，才會把 Input Data 抓進去\n",
    "4. tf.constant(3, tf.float32)  \n",
    "=> 建立一個 Node，3 是屬於常數，並設定它的型態(tf.float32)\n",
    "5. tf.add(NODE1, NODE2)  \n",
    "=> 產生另外一個 Node，是把 NODE1 和 NODE2 相加\n",
    "6. NODE1 + NODE2 \n",
    "=> 等同於 tf.add(NODE1, NODE2)\n",
    "7. tf.Variable  \n",
    "=> 是整個 Session 要去學習的參數，根據某個 Cast Function，想辦法找到最小的 Cast"
   ]
  },
  {
   "cell_type": "markdown",
   "metadata": {},
   "source": [
    "### 先設定輸入相關的變數(Place Holder)\n",
    "---\n",
    "產生節點  \n",
    "來設定 X 變數(輸入是圖片的資料)  \n",
    "None 是資料輸入的地方  \n",
    "img_size_flat 是指每個資料會這麼大"
   ]
  },
  {
   "cell_type": "code",
   "execution_count": 8,
   "metadata": {},
   "outputs": [
    {
     "name": "stdout",
     "output_type": "stream",
     "text": [
      "Tensor(\"Placeholder:0\", shape=(?, 784), dtype=float32)\n"
     ]
    }
   ],
   "source": [
    "x = tf.placeholder(tf.float32, [None, img_size_flat])\n",
    "print(x)"
   ]
  },
  {
   "cell_type": "markdown",
   "metadata": {},
   "source": [
    "設定 Y 變數"
   ]
  },
  {
   "cell_type": "code",
   "execution_count": 9,
   "metadata": {},
   "outputs": [
    {
     "name": "stdout",
     "output_type": "stream",
     "text": [
      "Tensor(\"Placeholder_1:0\", shape=(?, 10), dtype=float32)\n"
     ]
    }
   ],
   "source": [
    "y_true = tf.placeholder(tf.float32, [None, num_classes])\n",
    "print(y_true)"
   ]
  },
  {
   "cell_type": "markdown",
   "metadata": {},
   "source": [
    "設定真實的一維"
   ]
  },
  {
   "cell_type": "code",
   "execution_count": 10,
   "metadata": {},
   "outputs": [
    {
     "name": "stdout",
     "output_type": "stream",
     "text": [
      "Tensor(\"Placeholder_2:0\", shape=(?,), dtype=int64)\n"
     ]
    }
   ],
   "source": [
    "y_ground_truth = tf.placeholder(tf.int64, [None])\n",
    "print(y_ground_truth)"
   ]
  },
  {
   "cell_type": "markdown",
   "metadata": {},
   "source": [
    "## 設定要 Training 的變數 (Variable)\n",
    "---\n",
    "根據線性的 Function\n",
    "\n",
    "要產生 **y = w \\* x + b**\n",
    "\n",
    "<br>\n",
    "<br>\n",
    "\n",
    "說明：\n",
    "\n",
    "每個數字都有一個 Weight 表\n",
    "\n",
    "每個 Weight 表的值都不同\n",
    "\n",
    "可以想像數字7\n",
    "\n",
    "在轉角的那個區塊\n",
    "\n",
    "因為是重要的 Feature\n",
    "\n",
    "可能 Weight 會比較大\n",
    "\n",
    "所以才要每個數字都見一個 Weight 表"
   ]
  },
  {
   "cell_type": "code",
   "execution_count": 11,
   "metadata": {},
   "outputs": [],
   "source": [
    "weights = tf.Variable(tf.zeros([img_size_flat, num_classes]))"
   ]
  },
  {
   "cell_type": "markdown",
   "metadata": {},
   "source": [
    "設定 Biases"
   ]
  },
  {
   "cell_type": "code",
   "execution_count": 12,
   "metadata": {},
   "outputs": [],
   "source": [
    "biases = tf.Variable(tf.zeros([num_classes]))"
   ]
  },
  {
   "cell_type": "markdown",
   "metadata": {},
   "source": [
    "## 將這些 Node 建成 Graph\n",
    "---\n",
    "前面所產生了很多個 Node  \n",
    "要建成 Model  \n",
    "**y = w \\* x + b**"
   ]
  },
  {
   "cell_type": "code",
   "execution_count": 13,
   "metadata": {},
   "outputs": [],
   "source": [
    "logits = tf.matmul(x, weights) + biases"
   ]
  },
  {
   "cell_type": "markdown",
   "metadata": {},
   "source": [
    "從 0 ~ 9 的結果中  \n",
    "取出最大的  \n",
    "當作結果"
   ]
  },
  {
   "cell_type": "code",
   "execution_count": 14,
   "metadata": {},
   "outputs": [],
   "source": [
    "y_pred = tf.nn.softmax(logits)        # 把原本的模型轉成機率， logits => [2 1 0] => [0.7 0.3 0]\n",
    "y_pred_result = tf.argmax(y_pred, 1)  # 把最大的值，變成 1，其他變成 0，並降一個維度"
   ]
  },
  {
   "cell_type": "markdown",
   "metadata": {},
   "source": [
    "## Cost Function\n",
    "---\n",
    "當你設定玩 Function 時 (**y = w \\* x + b**)  \n",
    "你需要找到最佳的 w & b  \n",
    "這時候你就需要一個 Cost Function  \n",
    "想辦法讓這個越低越好  \n",
    "來取得最佳解\n",
    "\n",
    "而在分類問題的時候  \n",
    "一定要用 Cross Entropy  \n",
    "MSE(Mean Squared Error)在 non-convex 的部分\n",
    "會產生一些問題  \n",
    "[參考](https://goo.gl/S22b9n)"
   ]
  },
  {
   "cell_type": "code",
   "execution_count": 15,
   "metadata": {},
   "outputs": [],
   "source": [
    "cross_entropy = tf.nn.softmax_cross_entropy_with_logits(logits=logits,\n",
    "                                                        labels=y_true)"
   ]
  },
  {
   "cell_type": "markdown",
   "metadata": {},
   "source": [
    "要從這些 Entropy 的 Vector 中  \n",
    "取 Mean 當 Cost Function"
   ]
  },
  {
   "cell_type": "code",
   "execution_count": 16,
   "metadata": {},
   "outputs": [],
   "source": [
    "cost = tf.reduce_mean(cross_entropy)"
   ]
  },
  {
   "cell_type": "markdown",
   "metadata": {},
   "source": [
    "## 最佳化的方法\n",
    "---\n",
    "本篇是使用 Gradient Descent 的方法  \n",
    "根據 Learning Rate 來逼近 Local Minimum"
   ]
  },
  {
   "cell_type": "code",
   "execution_count": 17,
   "metadata": {},
   "outputs": [],
   "source": [
    "optimizer = tf.train.GradientDescentOptimizer(0.5).minimize(cost)"
   ]
  },
  {
   "cell_type": "markdown",
   "metadata": {},
   "source": [
    "## Performance\n",
    "---\n",
    "接著要來產生比較  \n",
    "讓 Groud Truth 跟 Pred 的值去做比較  "
   ]
  },
  {
   "cell_type": "code",
   "execution_count": 18,
   "metadata": {
    "scrolled": true
   },
   "outputs": [
    {
     "name": "stdout",
     "output_type": "stream",
     "text": [
      "Tensor(\"Equal:0\", shape=(?,), dtype=bool)\n"
     ]
    }
   ],
   "source": [
    "correct_pred = tf.equal(y_ground_truth, y_pred_result)\n",
    "print(correct_pred)"
   ]
  },
  {
   "cell_type": "markdown",
   "metadata": {},
   "source": [
    "接著要產生準確率的變數"
   ]
  },
  {
   "cell_type": "code",
   "execution_count": 19,
   "metadata": {},
   "outputs": [],
   "source": [
    "accuracy = tf.reduce_mean(tf.cast(correct_pred, tf.float32))"
   ]
  },
  {
   "cell_type": "markdown",
   "metadata": {},
   "source": [
    "## 使用 Tensorflow 跑整個流程\n",
    "---\n",
    "上面創建好的 Node 可以創建 Session 跑出結果  "
   ]
  },
  {
   "cell_type": "code",
   "execution_count": 20,
   "metadata": {},
   "outputs": [],
   "source": [
    "session = tf.Session()"
   ]
  },
  {
   "cell_type": "markdown",
   "metadata": {},
   "source": [
    "## 初始化參數\n",
    "---\n",
    "要先初始化 Variables (就是範例裡的 Weight & Biases) \n",
    "需要先初始化"
   ]
  },
  {
   "cell_type": "code",
   "execution_count": 21,
   "metadata": {},
   "outputs": [],
   "source": [
    "session.run(tf.global_variables_initializer())"
   ]
  },
  {
   "cell_type": "markdown",
   "metadata": {},
   "source": [
    "## 使用 Helper-Function 來展現最佳化的結果\n",
    "---\n",
    "因為 50000 張圖片太多了  \n",
    "在 Train 的過程中會花費太多時間\n",
    "所以才用 Stochastic Gradient Descent(簡單來說就是每次抓一堆 Batch 來跑)  \n",
    "所以先設定 Batch_size\n"
   ]
  },
  {
   "cell_type": "code",
   "execution_count": 22,
   "metadata": {},
   "outputs": [],
   "source": [
    "batch_size = 100"
   ]
  },
  {
   "cell_type": "markdown",
   "metadata": {},
   "source": [
    "來設定一個 Function  \n",
    "根據要跑幾次 Iterations  \n",
    "來確認訓練出來的結果"
   ]
  },
  {
   "cell_type": "code",
   "execution_count": 23,
   "metadata": {},
   "outputs": [],
   "source": [
    "def optimize(num_iterations):\n",
    "    for i in range(num_iterations):\n",
    "        # 從 MNIST 裡，抓出 batch size 回來\n",
    "        # 而回傳出來的值是一個 [2] 的值\n",
    "        # 所以就把圖片給 x_batch\n",
    "        # Label 的字給 y_truth_batch\n",
    "        x_batch, y_true_batch = data.train.next_batch(batch_size)\n",
    "        \n",
    "        feed_pred_train = {x: x_batch,\n",
    "                           y_true: y_true_batch}\n",
    "        \n",
    "        # 跑資料囉\n",
    "        session.run(optimizer, feed_pred_train)"
   ]
  },
  {
   "cell_type": "markdown",
   "metadata": {},
   "source": [
    "## 在建立 Helper-Functions 來顯示預測的好壞\n",
    "---\n",
    "在 Training 完之後  \n",
    "要使用 Test Set 來測試 Training 的結果  \n",
    "所以要建一些 Helper-Function 來確定好壞"
   ]
  },
  {
   "cell_type": "code",
   "execution_count": 24,
   "metadata": {},
   "outputs": [
    {
     "name": "stdout",
     "output_type": "stream",
     "text": [
      "Image => \n",
      "[[ 0.  0.  0. ...,  0.  0.  0.]\n",
      " [ 0.  0.  0. ...,  0.  0.  0.]\n",
      " [ 0.  0.  0. ...,  0.  0.  0.]\n",
      " ..., \n",
      " [ 0.  0.  0. ...,  0.  0.  0.]\n",
      " [ 0.  0.  0. ...,  0.  0.  0.]\n",
      " [ 0.  0.  0. ...,  0.  0.  0.]]\n",
      "Label => \n",
      "[[ 0.  0.  0. ...,  1.  0.  0.]\n",
      " [ 0.  0.  1. ...,  0.  0.  0.]\n",
      " [ 0.  1.  0. ...,  0.  0.  0.]\n",
      " ..., \n",
      " [ 0.  0.  0. ...,  0.  0.  0.]\n",
      " [ 0.  0.  0. ...,  0.  0.  0.]\n",
      " [ 0.  0.  0. ...,  0.  0.  0.]]\n",
      "True Value => \n",
      "[7 2 1 ..., 4 5 6]\n"
     ]
    }
   ],
   "source": [
    "feed_test = {x: data.test.images, \n",
    "             y_true: data.test.labels,\n",
    "             y_ground_truth: data.test.cls}\n",
    "print(\"Image => \\n{0}\".format(data.test.images))\n",
    "print(\"Label => \\n{0}\".format(data.test.labels))\n",
    "print(\"True Value => \\n{0}\".format(data.test.cls))"
   ]
  },
  {
   "cell_type": "markdown",
   "metadata": {},
   "source": [
    "Print 準確率"
   ]
  },
  {
   "cell_type": "code",
   "execution_count": 25,
   "metadata": {},
   "outputs": [],
   "source": [
    "def print_accuracy():\n",
    "    # 將要跑的 Graph 跟 資了為進去\n",
    "    acc = session.run(accuracy, feed_test)\n",
    "    \n",
    "    # 印出結果\n",
    "    print(\"準確率：{0:.1%}\".format(acc))"
   ]
  },
  {
   "cell_type": "markdown",
   "metadata": {},
   "source": [
    "## Confusion Matrix 來視覺化測試結果\n",
    "---\n",
    "一邊是表示 True Data  \n",
    "另一邊是表示 Predict Data  \n",
    "![](http://www.harrisgeospatial.com/docs/html/images/Classification/ConfusionMatrix.gif)"
   ]
  },
  {
   "cell_type": "code",
   "execution_count": 26,
   "metadata": {},
   "outputs": [],
   "source": [
    "def plot_confusion_matrix():\n",
    "    # 拿所有的 Test Set EX:[7, 2, 4]\n",
    "    cls_true = data.test.cls\n",
    "    \n",
    "    # 去做分類，看結果也幾個相近 EX:[7, 1, 4]\n",
    "    cls_pred = session.run(y_pred_result, feed_dict=feed_test)\n",
    "\n",
    "    # 從 sklearn 填 Confusion Matrix\n",
    "    cm = confusion_matrix(y_true=cls_true,\n",
    "                          y_pred=cls_pred)\n",
    "\n",
    "    # 印出 Confusion Matrix\n",
    "    print(cm)\n",
    "\n",
    "    # 變成一張圖\n",
    "    plt.imshow(cm, interpolation='nearest', cmap=plt.cm.Blues)\n",
    "    plt.tight_layout()\n",
    "    plt.colorbar()\n",
    "    tick_marks = np.arange(num_classes)\n",
    "    plt.xticks(tick_marks, range(num_classes))\n",
    "    plt.yticks(tick_marks, range(num_classes))\n",
    "    plt.xlabel('Predicted')\n",
    "    plt.ylabel('True')"
   ]
  },
  {
   "cell_type": "markdown",
   "metadata": {},
   "source": [
    "## Plot 出錯誤的圖片\n",
    "---"
   ]
  },
  {
   "cell_type": "code",
   "execution_count": 27,
   "metadata": {},
   "outputs": [],
   "source": [
    "def plot_example_errors():\n",
    "    # 一次執行兩個 Node\n",
    "    # 所以輸出兩個\n",
    "    correct, cls_pred = session.run([correct_pred, y_pred_result],\n",
    "                                    feed_dict=feed_test)\n",
    "\n",
    "    # 把所有為 True 轉成 False，False 轉成 True\n",
    "    incorrect = (correct == False)\n",
    "    \n",
    "    # 只拿出所有 images 在 incorrect 為 True 的圖片\n",
    "    images = data.test.images[incorrect]\n",
    "    \n",
    "    # 測試維度是不是正確的\n",
    "    #print(incorrect.shape)\n",
    "    #print(images.shape)\n",
    "    \n",
    "    # 拿到那些在 incorrect 為 True 的 predict result\n",
    "    cls_pred = cls_pred[incorrect]\n",
    "\n",
    "    # 拿 Ground Truth\n",
    "    cls_true = data.test.cls[incorrect]\n",
    "    \n",
    "    # 畫圖\n",
    "    plot_images(images[0:9],\n",
    "                cls_true[0:9],\n",
    "                cls_pred[0:9])"
   ]
  },
  {
   "cell_type": "markdown",
   "metadata": {},
   "source": [
    "## Plot 判斷字的 Weight\n",
    "---"
   ]
  },
  {
   "cell_type": "code",
   "execution_count": 28,
   "metadata": {},
   "outputs": [],
   "source": [
    "def plot_weights():\n",
    "    # 從 Tensorflow 的變數中，拿出 Weight\n",
    "    w = session.run(weights)\n",
    "    \n",
    "    # 找最高和最低值，要壓縮\n",
    "    # 有正的跟負的\n",
    "    w_min = np.min(w)\n",
    "    w_max = np.max(w)\n",
    "\n",
    "    # 創建 3 x 4 的格子\n",
    "    # 但後面兩個沒用到\n",
    "    # 因為只顯示十個\n",
    "    fig, axes = plt.subplots(3, 4)\n",
    "    fig.subplots_adjust(hspace=0.3, wspace=0.3)\n",
    "\n",
    "    for i, ax in enumerate(axes.flat):\n",
    "        # 只使用前面十個\n",
    "        if i<10:\n",
    "            # 原本是一個 img_size_flat x 1 的陣列\n",
    "            # 要轉乘 28 x 28\n",
    "            image = w[:, i].reshape(img_shape)\n",
    "\n",
    "            # 設定 xlabel\n",
    "            ax.set_xlabel(\"Weights: {0}\".format(i))\n",
    "\n",
    "            # cmap 是一個參數(Color Map)，根據值，要對應哪一個顏色\n",
    "            # seismic 是一種對應的方式\n",
    "            # https://matplotlib.org/examples/color/colormaps_reference.html\n",
    "            ax.imshow(image, vmin=w_min, vmax=w_max, cmap='seismic')\n",
    "\n",
    "        # Remove ticks from each sub-plot.\n",
    "        ax.set_xticks([])\n",
    "        ax.set_yticks([])"
   ]
  },
  {
   "cell_type": "markdown",
   "metadata": {},
   "source": [
    "# 開始測試結果\n",
    "---\n",
    "主要分成四個階段：\n",
    "1. 還沒 Train 之前\n",
    "2. Train 1個 Iteration\n",
    "3. Train 10個 Iterations\n",
    "4. Train 1000個 Iterations"
   ]
  },
  {
   "cell_type": "markdown",
   "metadata": {},
   "source": [
    "## 還沒 Train之前\n",
    "---\n",
    "所有的 Weight 在 global_variables_initializer時  \n",
    "全部設定成 0  \n",
    "所以不管什麼值來都是 0"
   ]
  },
  {
   "cell_type": "code",
   "execution_count": 29,
   "metadata": {},
   "outputs": [
    {
     "name": "stdout",
     "output_type": "stream",
     "text": [
      "準確率：9.8%\n"
     ]
    }
   ],
   "source": [
    "print_accuracy()"
   ]
  },
  {
   "cell_type": "code",
   "execution_count": 30,
   "metadata": {},
   "outputs": [
    {
     "data": {
      "image/png": "[encoded data removed]",
      "text/plain": [
       "<matplotlib.figure.Figure at 0x293806f3eb8>"
      ]
     },
     "metadata": {},
     "output_type": "display_data"
    }
   ],
   "source": [
    "plot_example_errors()"
   ]
  },
  {
   "cell_type": "code",
   "execution_count": 31,
   "metadata": {},
   "outputs": [
    {
     "name": "stdout",
     "output_type": "stream",
     "text": [
      "[[ 980    0    0    0    0    0    0    0    0    0]\n",
      " [1135    0    0    0    0    0    0    0    0    0]\n",
      " [1032    0    0    0    0    0    0    0    0    0]\n",
      " [1010    0    0    0    0    0    0    0    0    0]\n",
      " [ 982    0    0    0    0    0    0    0    0    0]\n",
      " [ 892    0    0    0    0    0    0    0    0    0]\n",
      " [ 958    0    0    0    0    0    0    0    0    0]\n",
      " [1028    0    0    0    0    0    0    0    0    0]\n",
      " [ 974    0    0    0    0    0    0    0    0    0]\n",
      " [1009    0    0    0    0    0    0    0    0    0]]\n"
     ]
    },
    {
     "data": {
      "image/png": "[encoded data removed]",
      "text/plain": [
       "<matplotlib.figure.Figure at 0x2938189cb00>"
      ]
     },
     "metadata": {},
     "output_type": "display_data"
    }
   ],
   "source": [
    "plot_confusion_matrix()"
   ]
  },
  {
   "cell_type": "markdown",
   "metadata": {},
   "source": [
    "## Train 1次的結果\n",
    "---"
   ]
  },
  {
   "cell_type": "code",
   "execution_count": 32,
   "metadata": {},
   "outputs": [],
   "source": [
    "optimize(1)"
   ]
  },
  {
   "cell_type": "code",
   "execution_count": 33,
   "metadata": {},
   "outputs": [
    {
     "name": "stdout",
     "output_type": "stream",
     "text": [
      "準確率：38.3%\n"
     ]
    }
   ],
   "source": [
    "print_accuracy()"
   ]
  },
  {
   "cell_type": "code",
   "execution_count": 34,
   "metadata": {},
   "outputs": [
    {
     "data": {
      "image/png": "[encoded data removed]",
      "text/plain": [
       "<matplotlib.figure.Figure at 0x293805f9668>"
      ]
     },
     "metadata": {},
     "output_type": "display_data"
    }
   ],
   "source": [
    "plot_example_errors()"
   ]
  },
  {
   "cell_type": "code",
   "execution_count": 35,
   "metadata": {},
   "outputs": [
    {
     "name": "stdout",
     "output_type": "stream",
     "text": [
      "[[752   0   1 164   1   0   0  32  30   0]\n",
      " [  0   0  97 784   0   0   0  33 221   0]\n",
      " [  7   0 370 443  36   0   0  28 148   0]\n",
      " [  1   0   2 980   0   0   0  21   6   0]\n",
      " [  3   0   3 130 505   0   0 297  44   0]\n",
      " [  1   0  11 606   6   0   1 176  91   0]\n",
      " [ 54   0 197 219 117   0  39  19 313   0]\n",
      " [  2   0   6  85   2   0   0 908  25   0]\n",
      " [  0   0   1 645   0   0   0  47 281   0]\n",
      " [  3   0   5 248 157   0   0 576  20   0]]\n"
     ]
    },
    {
     "data": {
      "image/png": "[encoded data removed]",
      "text/plain": [
       "<matplotlib.figure.Figure at 0x2938e3bdf28>"
      ]
     },
     "metadata": {},
     "output_type": "display_data"
    }
   ],
   "source": [
    "plot_confusion_matrix()"
   ]
  },
  {
   "cell_type": "code",
   "execution_count": 36,
   "metadata": {},
   "outputs": [
    {
     "data": {
      "image/png": "[encoded data removed]",
      "text/plain": [
       "<matplotlib.figure.Figure at 0x29381902198>"
      ]
     },
     "metadata": {},
     "output_type": "display_data"
    }
   ],
   "source": [
    "plot_weights()"
   ]
  },
  {
   "cell_type": "markdown",
   "metadata": {},
   "source": [
    "## Train 10個 Iteration\n",
    "---"
   ]
  },
  {
   "cell_type": "code",
   "execution_count": 37,
   "metadata": {},
   "outputs": [],
   "source": [
    "# 因為前面做了一次\n",
    "optimize(9)"
   ]
  },
  {
   "cell_type": "code",
   "execution_count": 38,
   "metadata": {},
   "outputs": [
    {
     "name": "stdout",
     "output_type": "stream",
     "text": [
      "準確率：77.2%\n"
     ]
    }
   ],
   "source": [
    "print_accuracy()"
   ]
  },
  {
   "cell_type": "code",
   "execution_count": 39,
   "metadata": {
    "scrolled": true
   },
   "outputs": [
    {
     "data": {
      "image/png": "[encoded data removed]",
      "text/plain": [
       "<matplotlib.figure.Figure at 0x2938d3c5940>"
      ]
     },
     "metadata": {},
     "output_type": "display_data"
    }
   ],
   "source": [
    "plot_example_errors()"
   ]
  },
  {
   "cell_type": "code",
   "execution_count": 40,
   "metadata": {},
   "outputs": [
    {
     "name": "stdout",
     "output_type": "stream",
     "text": [
      "[[ 913    0    1    1    0    1   45    1   16    2]\n",
      " [   0 1076    2    1    0    0    5    1   42    8]\n",
      " [  38   35  758    6    2    0   74   21   58   40]\n",
      " [  21    7   23  760    0   24   25   16   60   74]\n",
      " [   8    7    3    0  279    0   61    3   26  595]\n",
      " [  31   30    1   68    0  448   70   22  126   96]\n",
      " [  23   11    7    0    1    9  897    1    9    0]\n",
      " [   5   40   12    0    0    0    5  855   23   88]\n",
      " [  11   17    6   15    0   12   23   10  806   74]\n",
      " [  15    7    5    4    3    1    7   18   24  925]]\n"
     ]
    },
    {
     "data": {
      "image/png": "[encoded data removed]",
      "text/plain": [
       "<matplotlib.figure.Figure at 0x2938d3fa9b0>"
      ]
     },
     "metadata": {},
     "output_type": "display_data"
    }
   ],
   "source": [
    "plot_confusion_matrix()"
   ]
  },
  {
   "cell_type": "code",
   "execution_count": 41,
   "metadata": {},
   "outputs": [
    {
     "data": {
      "image/png": "[encoded data removed]",
      "text/plain": [
       "<matplotlib.figure.Figure at 0x2938193f9e8>"
      ]
     },
     "metadata": {},
     "output_type": "display_data"
    }
   ],
   "source": [
    "plot_weights()"
   ]
  },
  {
   "cell_type": "markdown",
   "metadata": {},
   "source": [
    "## Train 1000次 Iteration"
   ]
  },
  {
   "cell_type": "code",
   "execution_count": 42,
   "metadata": {},
   "outputs": [],
   "source": [
    "optimize(990)"
   ]
  },
  {
   "cell_type": "code",
   "execution_count": 43,
   "metadata": {},
   "outputs": [
    {
     "name": "stdout",
     "output_type": "stream",
     "text": [
      "準確率：92.1%\n"
     ]
    }
   ],
   "source": [
    "print_accuracy()"
   ]
  },
  {
   "cell_type": "code",
   "execution_count": 44,
   "metadata": {},
   "outputs": [
    {
     "data": {
      "image/png": "[encoded data removed]",
      "text/plain": [
       "<matplotlib.figure.Figure at 0x293806c15f8>"
      ]
     },
     "metadata": {},
     "output_type": "display_data"
    }
   ],
   "source": [
    "plot_example_errors()"
   ]
  },
  {
   "cell_type": "code",
   "execution_count": 45,
   "metadata": {},
   "outputs": [
    {
     "name": "stdout",
     "output_type": "stream",
     "text": [
      "[[ 956    0    2    2    0    5   10    2    3    0]\n",
      " [   0 1108    2    2    0    2    4    2   15    0]\n",
      " [   7    7  925   10    9    5   14   11   39    5]\n",
      " [   3    1   26  898    0   36    3   14   24    5]\n",
      " [   1    1    6    1  918    1   15    2   12   25]\n",
      " [  10    3    4   22    9  782   17    8   32    5]\n",
      " [  10    3    5    1    9   14  912    1    3    0]\n",
      " [   2    8   25    6    8    0    0  949    2   28]\n",
      " [   5    6    6   16    9   28    9   11  883    1]\n",
      " [  10    6    2   12   50    8    0   31   12  878]]\n"
     ]
    },
    {
     "data": {
      "image/png": "[encoded data removed]",
      "text/plain": [
       "<matplotlib.figure.Figure at 0x29381902358>"
      ]
     },
     "metadata": {},
     "output_type": "display_data"
    }
   ],
   "source": [
    "plot_confusion_matrix()"
   ]
  },
  {
   "cell_type": "code",
   "execution_count": 46,
   "metadata": {},
   "outputs": [
    {
     "data": {
      "image/png": "[encoded data removed]",
      "text/plain": [
       "<matplotlib.figure.Figure at 0x2938d1fcdd8>"
      ]
     },
     "metadata": {},
     "output_type": "display_data"
    }
   ],
   "source": [
    "plot_weights()"
   ]
  }
 ],
 "metadata": {
  "kernelspec": {
   "display_name": "Python 3",
   "language": "python",
   "name": "python3"
  },
  "language_info": {
   "codemirror_mode": {
    "name": "ipython",
    "version": 3
   },
   "file_extension": ".py",
   "mimetype": "text/x-python",
   "name": "python",
   "nbconvert_exporter": "python",
   "pygments_lexer": "ipython3",
   "version": "3.6.2"
  }
 },
 "nbformat": 4,
 "nbformat_minor": 2
}
