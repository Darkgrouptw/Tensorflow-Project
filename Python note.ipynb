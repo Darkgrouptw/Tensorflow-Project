{
 "cells": [
  {
   "cell_type": "markdown",
   "metadata": {},
   "source": [
    "# Python 須知"
   ]
  },
  {
   "cell_type": "markdown",
   "metadata": {},
   "source": [
    "## Python 輸出\n",
    "---\n",
    "\n",
    "EX: \"True: {0}\".format(1)  \n",
    "利用 format 的函數是將裡面的數字轉成字串  \n",
    "填到參數{0}裡"
   ]
  },
  {
   "cell_type": "code",
   "execution_count": 1,
   "metadata": {},
   "outputs": [
    {
     "name": "stdout",
     "output_type": "stream",
     "text": [
      "True: 1\n",
      "True: [0, 1, 2, 3]\n",
      "1 Hello 3\n"
     ]
    }
   ],
   "source": [
    "print(\"True: {0}\".format(1))\n",
    "print(\"True: {0}\".format([0,1,2,3]))\n",
    "print(\"{0} Hello {1}\".format(1,3))"
   ]
  },
  {
   "cell_type": "markdown",
   "metadata": {},
   "source": [
    "## Python Array 格式\n",
    "---\n",
    "numpy 是 Python 數學計算的模組  \n",
    "\\[從哪一個開始(A):到哪一個結束(B)\\]  \n",
    "記得顯示的數目是 B-A  \n",
    "shape => 看資料的維度"
   ]
  },
  {
   "cell_type": "code",
   "execution_count": 2,
   "metadata": {},
   "outputs": [
    {
     "name": "stdout",
     "output_type": "stream",
     "text": [
      "0:0 =>\n",
      " [] \n",
      "\n",
      "0:1 =>\n",
      " [[0 1 2 3 4]] \n",
      "\n",
      "0:2 =>\n",
      " [[0 1 2 3 4]\n",
      " [5 6 7 8 9]] \n",
      "\n",
      "0:3 =>\n",
      " [[ 0  1  2  3  4]\n",
      " [ 5  6  7  8  9]\n",
      " [12 13 14 15 16]] \n",
      "\n",
      "1:1 =>\n",
      " [] \n",
      "\n",
      "1:2 =>\n",
      " [[5 6 7 8 9]] \n",
      "\n",
      "維度是 (4, 5)\n"
     ]
    }
   ],
   "source": [
    "import numpy as np\n",
    "test_array = np.array([[ 0,  1,  2,  3,  4],\n",
    "                       [ 5,  6,  7,  8,  9],\n",
    "                       [12, 13, 14, 15, 16],\n",
    "                       [ 8,  2,  3,  1,  6]])\n",
    "print(\"0:0 =>\\n\", test_array[0:0],\"\\n\")\n",
    "print(\"0:1 =>\\n\", test_array[0:1],\"\\n\")\n",
    "print(\"0:2 =>\\n\", test_array[0:2],\"\\n\")\n",
    "print(\"0:3 =>\\n\", test_array[0:3],\"\\n\")\n",
    "print(\"1:1 =>\\n\", test_array[1:1],\"\\n\")\n",
    "print(\"1:2 =>\\n\", test_array[1:2],\"\\n\")\n",
    "print(\"維度是\", test_array.shape)\n",
    "#data.test.labels[0:2, :]"
   ]
  },
  {
   "cell_type": "markdown",
   "metadata": {},
   "source": [
    "## 陣列裡面放 For\n",
    "---\n",
    "陣列裡面可以放一個 for 來產生一維資料  \n",
    "numpy array 裡面 argmax  \n",
    "是拿出整個陣列裡  \n",
    "最大的值的 Index (從0開始)"
   ]
  },
  {
   "cell_type": "code",
   "execution_count": 3,
   "metadata": {},
   "outputs": [
    {
     "name": "stdout",
     "output_type": "stream",
     "text": [
      "[4 4 4 0]\n"
     ]
    }
   ],
   "source": [
    "testMax = np.array([label.argmax() for label in test_array])\n",
    "print(testMax)"
   ]
  }
 ],
 "metadata": {
  "kernelspec": {
   "display_name": "Python 3",
   "language": "python",
   "name": "python3"
  },
  "language_info": {
   "codemirror_mode": {
    "name": "ipython",
    "version": 3
   },
   "file_extension": ".py",
   "mimetype": "text/x-python",
   "name": "python",
   "nbconvert_exporter": "python",
   "pygments_lexer": "ipython3",
   "version": "3.6.2"
  }
 },
 "nbformat": 4,
 "nbformat_minor": 2
}
