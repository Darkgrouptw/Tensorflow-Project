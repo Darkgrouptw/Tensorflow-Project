{
 "cells": [
  {
   "cell_type": "markdown",
   "metadata": {
    "collapsed": true
   },
   "source": [
    "# 根據 CartPole 的遊戲，來實作 Policy Gradient\n",
    "---"
   ]
  },
  {
   "cell_type": "code",
   "execution_count": null,
   "metadata": {},
   "outputs": [],
   "source": [
    "%matplotlib inline\n",
    "import gym\n",
    "import matplotlib.pyplot as plt\n",
    "from  RLAgent_PolicyGradient import PolicyGradient"
   ]
  },
  {
   "cell_type": "markdown",
   "metadata": {},
   "source": [
    "## 建造遊戲環境\n",
    "---\n",
    "![](imgs/input_output.png \"環境參數圖\")\n",
    "[原始連結](https://github.com/openai/gym/wiki/CartPole-v0)"
   ]
  },
  {
   "cell_type": "code",
   "execution_count": null,
   "metadata": {},
   "outputs": [],
   "source": [
    "env = gym.make(\"CartPole-v0\")                # 立竿子的遊戲\n",
    "env = env.unwrapped                          # 遊戲設定，好像不要讓參數有限制\n",
    "\n",
    "print(env.action_space)\n",
    "print(env.observation_space)\n",
    "print(env.observation_space.high)            # 最大值\n",
    "print(env.observation_space.low)             # 最小值"
   ]
  },
  {
   "cell_type": "markdown",
   "metadata": {},
   "source": [
    "## 測試遊戲\n",
    "---\n",
    "Example:  \n",
    "<pre>array([ 0.10472821,  3.1417834 ,  1.96147299,  5.57941823]), 0.0, True, {}</pre>  \n",
    "前面四個代表 Observation 的值  \n",
    "再來是 Reward (這裡注意，在還可以救起來之前，Reward 都是 1，且 IsDone 為 False)  \n",
    "Info 好像沒有用  \n",
    "\n",
    "而** Action 是一個 Int => 0 or 1 !!**"
   ]
  },
  {
   "cell_type": "code",
   "execution_count": null,
   "metadata": {},
   "outputs": [],
   "source": [
    "# 重製 & render\n",
    "# print(env.reset())\n",
    "# env.render()"
   ]
  },
  {
   "cell_type": "code",
   "execution_count": null,
   "metadata": {},
   "outputs": [],
   "source": [
    "# env.render()\n",
    "# print(env.step(1))"
   ]
  },
  {
   "cell_type": "code",
   "execution_count": null,
   "metadata": {},
   "outputs": [],
   "source": [
    "# env.render(close=True)"
   ]
  },
  {
   "cell_type": "markdown",
   "metadata": {},
   "source": [
    "## 測試從 Tensorflow 的操作\n",
    "---\n",
    "要從"
   ]
  },
  {
   "cell_type": "code",
   "execution_count": 1,
   "metadata": {},
   "outputs": [],
   "source": [
    "import tensorflow as tf"
   ]
  },
  {
   "cell_type": "code",
   "execution_count": 5,
   "metadata": {},
   "outputs": [
    {
     "ename": "SyntaxError",
     "evalue": "invalid syntax (<ipython-input-5-b1493a3c96b5>, line 8)",
     "output_type": "error",
     "traceback": [
      "\u001b[1;36m  File \u001b[1;32m\"<ipython-input-5-b1493a3c96b5>\"\u001b[1;36m, line \u001b[1;32m8\u001b[0m\n\u001b[1;33m    kernel_initializer=weightInit,\u001b[0m\n\u001b[1;37m                     ^\u001b[0m\n\u001b[1;31mSyntaxError\u001b[0m\u001b[1;31m:\u001b[0m invalid syntax\n"
     ]
    }
   ],
   "source": [
    "weightInit = tf.random_normal_initializer(mean=0, stddev= 0.3)\n",
    "biasInit = tf.random_normal_initializer(mean=0, stddev= 0.1) \n",
    "input = tf.placeholder(tf.float32, [None, 3])\n",
    "layer1 = tf.layers.dense(\n",
    "    inputs=input,\n",
    "    units=10,\n",
    "    activation=tf.nn.relu\n",
    "    kernel_initializer=weightInit,\n",
    "    bias_initializer=biasInit,\n",
    "    name=\"layer1\")\n",
    "layer2 = tf.layers.dense(\n",
    "    inputs=layer1,\n",
    "    units=2,\n",
    "    kernel_initializer=weightInit,\n",
    "    bias_initializer=biasInit,\n",
    "    name=\"layer2\")\n",
    "print(layer1)\n",
    "print(layer2)"
   ]
  },
  {
   "cell_type": "code",
   "execution_count": 4,
   "metadata": {},
   "outputs": [
    {
     "name": "stdout",
     "output_type": "stream",
     "text": [
      "['layer1', 'BiasAdd:0']\n",
      "[[ 0.24391969  0.07614848 -0.30415317  0.26771092 -0.02659281  0.2651602\n",
      "  -0.28294718 -0.12896404  0.02818263  0.30584416]\n",
      " [ 0.08274533  0.12062119 -0.09977292  0.00846405  0.05158115 -0.11050295\n",
      "   0.05199748  0.7952112  -0.24342783  0.17322546]\n",
      " [-0.42013741 -0.17585555 -0.19589466 -0.05307763  0.17228816 -0.45333496\n",
      "   0.45494297  0.06890732  0.12492136  0.05327762]]\n",
      "[ 0.08660074 -0.05290389 -0.04098911  0.15825166  0.10461451 -0.02489921\n",
      "  0.03625813  0.2247117  -0.04854786 -0.01341456]\n"
     ]
    }
   ],
   "source": [
    "weightNode = tf.get_default_graph().get_tensor_by_name(layer1.name.split(\"/\")[0] + '/kernel:0')\n",
    "biasNode = tf.get_default_graph().get_tensor_by_name(\"layer1/bias:0\")\n",
    "session = tf.Session()\n",
    "session.run(tf.global_variables_initializer())\n",
    "w = session.run(weightNode)\n",
    "b = session.run(biasNode)\n",
    "print(layer1.name.split(\"/\"))\n",
    "print(w)\n",
    "print(b)"
   ]
  }
 ],
 "metadata": {
  "kernelspec": {
   "display_name": "Python 3",
   "language": "python",
   "name": "python3"
  },
  "language_info": {
   "codemirror_mode": {
    "name": "ipython",
    "version": 3
   },
   "file_extension": ".py",
   "mimetype": "text/x-python",
   "name": "python",
   "nbconvert_exporter": "python",
   "pygments_lexer": "ipython3",
   "version": "3.6.3"
  }
 },
 "nbformat": 4,
 "nbformat_minor": 1
}
