{
 "cells": [
  {
   "cell_type": "markdown",
   "metadata": {
    "collapsed": true
   },
   "source": [
    "# 根據 CartPole 的遊戲，來實作 Policy Gradient\n",
    "---"
   ]
  },
  {
   "cell_type": "code",
   "execution_count": null,
   "metadata": {
    "scrolled": true
   },
   "outputs": [],
   "source": [
    "%matplotlib inline\n",
    "import gym\n",
    "import matplotlib.pyplot as plt\n",
    "from  RLAgent_PolicyGradient import PolicyGradient\n",
    "import numpy as np\n",
    "import keyboard"
   ]
  },
  {
   "cell_type": "markdown",
   "metadata": {},
   "source": [
    "## 建造遊戲環境\n",
    "---\n",
    "![](imgs/input_output.png \"環境參數圖\")\n",
    "[原始連結](https://github.com/openai/gym/wiki/CartPole-v0)"
   ]
  },
  {
   "cell_type": "code",
   "execution_count": null,
   "metadata": {
    "scrolled": true
   },
   "outputs": [],
   "source": [
    "env = gym.make(\"CartPole-v0\")                # 立竿子的遊戲\n",
    "env.seed(1)     # reproducible, general Policy gradient has high variance\n",
    "env = env.unwrapped                          # 遊戲設定，好像不要讓參數有限制\n",
    "\n",
    "print(env.action_space)\n",
    "print(env.action_space.n)\n",
    "print(env.observation_space)\n",
    "print(env.observation_space.shape[0])\n",
    "print(env.observation_space.high)            # 最大值\n",
    "print(env.observation_space.low)             # 最小值"
   ]
  },
  {
   "cell_type": "markdown",
   "metadata": {},
   "source": [
    "## 測試遊戲\n",
    "---\n",
    "Example:  \n",
    "<pre>array([ 0.10472821,  3.1417834 ,  1.96147299,  5.57941823]), 0.0, True, {}</pre> \n",
    "輸出會有四個東西：  \n",
    "1. 代表 Observation 的值  \n",
    "2. Reward (這裡注意，在還可以救起來之前，Reward 都是 1，且 IsDone 為 False) \n",
    "3. IsDone\n",
    "4. Info 好像沒有用  \n",
    "\n",
    "而** Action 是一個 Int => 0 or 1 !!**"
   ]
  },
  {
   "cell_type": "code",
   "execution_count": null,
   "metadata": {
    "scrolled": true
   },
   "outputs": [],
   "source": [
    "# 重製 & render\n",
    "# print(env.reset())\n",
    "# env.render()"
   ]
  },
  {
   "cell_type": "code",
   "execution_count": null,
   "metadata": {
    "scrolled": true
   },
   "outputs": [],
   "source": [
    "# env.render()\n",
    "# print(env.step(1))"
   ]
  },
  {
   "cell_type": "code",
   "execution_count": null,
   "metadata": {
    "scrolled": true
   },
   "outputs": [],
   "source": [
    "# env.render(close=True)"
   ]
  },
  {
   "cell_type": "markdown",
   "metadata": {},
   "source": [
    "## 開始跑結果\n",
    "---"
   ]
  },
  {
   "cell_type": "code",
   "execution_count": null,
   "metadata": {
    "scrolled": true
   },
   "outputs": [],
   "source": [
    "# 創建 Agent\n",
    "Agent = PolicyGradient(\n",
    "    env.action_space.n,\n",
    "    env.observation_space.shape[0],\n",
    "    LearningRate = 0.02,\n",
    "    RewardDecay = 0.99,\n",
    "    # IsOutputGraph = True\n",
    ")"
   ]
  },
  {
   "cell_type": "code",
   "execution_count": null,
   "metadata": {
    "scrolled": true
   },
   "outputs": [],
   "source": [
    "# Training Part\n",
    "def TrainModel(RenderThresold = 400):\n",
    "    totalReward = 0\n",
    "    IsRender = False\n",
    "    for i in range(0, 3000):\n",
    "        # 歸零\n",
    "        observation = env.reset()\n",
    "\n",
    "        # 開始模擬\n",
    "        while True:\n",
    "            # redner 畫面\n",
    "            if(IsRender):\n",
    "                env.render()\n",
    "\n",
    "            # 選擇的動作\n",
    "            actionValue = Agent.chooseAction(observation)\n",
    "\n",
    "            # 選擇動作後 的結果\n",
    "            nextObservation, reward, IsDone, Info = env.step(actionValue)\n",
    "\n",
    "            # 存進記憶庫裡\n",
    "            Agent.storeTransition(\n",
    "                observation=observation,\n",
    "                action=actionValue,\n",
    "                reward=reward\n",
    "            )\n",
    "\n",
    "\n",
    "            if IsDone:\n",
    "                # 計算 Reward\n",
    "                if(i == 0):\n",
    "                    totalReward = np.sum(Agent.MemoryReward)\n",
    "                else:\n",
    "                    totalReward = totalReward * 0.99 + np.sum(Agent.MemoryReward) * 0.01\n",
    "                print(\"Epilson \" + format(i + 1) + \" Reward: \" + format(totalReward))\n",
    "                \n",
    "                # 判斷是否到結束\n",
    "                if(totalReward > RenderThresold):\n",
    "                    return\n",
    "\n",
    "                # 學習\n",
    "                Agent.learn()\n",
    "                break\n",
    "\n",
    "            observation = nextObservation"
   ]
  },
  {
   "cell_type": "code",
   "execution_count": null,
   "metadata": {
    "scrolled": true
   },
   "outputs": [],
   "source": [
    "def RunModel():\n",
    "    observation = env.reset()\n",
    "\n",
    "    # 開始模擬\n",
    "    while True:\n",
    "        # redner 畫面\n",
    "        env.render()\n",
    "\n",
    "        # 選擇的動作\n",
    "        actionValue = Agent.chooseAction(observation)\n",
    "        \n",
    "        # 選擇動作後 的結果\n",
    "        nextObservation, reward, IsDone, Info = env.step(actionValue)\n",
    "        observation = nextObservation\n",
    "        \n",
    "        # 如果按下 Ｑ 代表結束\n",
    "        if keyboard.is_pressed(\"q\"):\n",
    "            break"
   ]
  },
  {
   "cell_type": "code",
   "execution_count": null,
   "metadata": {
    "scrolled": false
   },
   "outputs": [],
   "source": [
    "# 訓練 Model\n",
    "TrainModel()"
   ]
  },
  {
   "cell_type": "code",
   "execution_count": null,
   "metadata": {
    "scrolled": true
   },
   "outputs": [],
   "source": [
    "# 使否要顯示 Model\n",
    "# 按 Q 結束\n",
    "RunModel()"
   ]
  },
  {
   "cell_type": "code",
   "execution_count": null,
   "metadata": {
    "scrolled": true
   },
   "outputs": [],
   "source": [
    "# 關閉程式\n",
    "Agent.session.close()\n",
    "env.render(close=True)"
   ]
  }
 ],
 "metadata": {
  "kernelspec": {
   "display_name": "Python 3",
   "language": "python",
   "name": "python3"
  },
  "language_info": {
   "codemirror_mode": {
    "name": "ipython",
    "version": 3
   },
   "file_extension": ".py",
   "mimetype": "text/x-python",
   "name": "python",
   "nbconvert_exporter": "python",
   "pygments_lexer": "ipython3",
   "version": "3.6.3"
  }
 },
 "nbformat": 4,
 "nbformat_minor": 1
}
