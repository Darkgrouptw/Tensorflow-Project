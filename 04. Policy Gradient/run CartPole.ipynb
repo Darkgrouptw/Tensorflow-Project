{
 "cells": [
  {
   "cell_type": "markdown",
   "metadata": {
    "collapsed": true
   },
   "source": [
    "# 根據 CartPole 的遊戲，來實作 Policy Gradient\n",
    "---"
   ]
  },
  {
   "cell_type": "code",
   "execution_count": 1,
   "metadata": {
    "scrolled": true
   },
   "outputs": [],
   "source": [
    "%matplotlib inline\n",
    "import gym\n",
    "import matplotlib.pyplot as plt\n",
    "from  RLAgent_PolicyGradient import PolicyGradient\n",
    "import numpy as np\n",
    "import keyboard"
   ]
  },
  {
   "cell_type": "markdown",
   "metadata": {},
   "source": [
    "## 建造遊戲環境\n",
    "---\n",
    "![](imgs/input_output.png \"環境參數圖\")\n",
    "[原始連結](https://github.com/openai/gym/wiki/CartPole-v0)"
   ]
  },
  {
   "cell_type": "code",
   "execution_count": 2,
   "metadata": {
    "scrolled": true
   },
   "outputs": [
    {
     "name": "stdout",
     "output_type": "stream",
     "text": [
      "Discrete(2)\n",
      "2\n",
      "Box(4,)\n",
      "4\n",
      "[  4.80000000e+00   3.40282347e+38   4.18879020e-01   3.40282347e+38]\n",
      "[ -4.80000000e+00  -3.40282347e+38  -4.18879020e-01  -3.40282347e+38]\n"
     ]
    }
   ],
   "source": [
    "env = gym.make(\"CartPole-v0\")                # 立竿子的遊戲\n",
    "env.seed(1)     # reproducible, general Policy gradient has high variance\n",
    "env = env.unwrapped                          # 遊戲設定，好像不要讓參數有限制\n",
    "\n",
    "print(env.action_space)\n",
    "print(env.action_space.n)\n",
    "print(env.observation_space)\n",
    "print(env.observation_space.shape[0])\n",
    "print(env.observation_space.high)            # 最大值\n",
    "print(env.observation_space.low)             # 最小值"
   ]
  },
  {
   "cell_type": "markdown",
   "metadata": {},
   "source": [
    "## 測試遊戲\n",
    "---\n",
    "Example:  \n",
    "<pre>array([ 0.10472821,  3.1417834 ,  1.96147299,  5.57941823]), 0.0, True, {}</pre> \n",
    "輸出會有四個東西：  \n",
    "1. 代表 Observation 的值  \n",
    "2. Reward (這裡注意，在還可以救起來之前，Reward 都是 1，且 IsDone 為 False) \n",
    "3. IsDone\n",
    "4. Info 好像沒有用  \n",
    "\n",
    "而** Action 是一個 Int => 0 or 1 !!**"
   ]
  },
  {
   "cell_type": "code",
   "execution_count": 3,
   "metadata": {
    "scrolled": true
   },
   "outputs": [],
   "source": [
    "# 重製 & render\n",
    "# print(env.reset())\n",
    "# env.render()"
   ]
  },
  {
   "cell_type": "code",
   "execution_count": 4,
   "metadata": {
    "scrolled": true
   },
   "outputs": [],
   "source": [
    "# env.render()\n",
    "# print(env.step(1))"
   ]
  },
  {
   "cell_type": "code",
   "execution_count": 5,
   "metadata": {
    "scrolled": true
   },
   "outputs": [],
   "source": [
    "# env.render(close=True)"
   ]
  },
  {
   "cell_type": "markdown",
   "metadata": {},
   "source": [
    "## 開始跑結果\n",
    "---"
   ]
  },
  {
   "cell_type": "code",
   "execution_count": 6,
   "metadata": {
    "scrolled": true
   },
   "outputs": [],
   "source": [
    "# 創建 Agent\n",
    "Agent = PolicyGradient(\n",
    "    env.action_space.n,\n",
    "    env.observation_space.shape[0],\n",
    "    LearningRate = 0.02,\n",
    "    RewardDecay = 0.99,\n",
    "    # IsOutputGraph = True\n",
    ")"
   ]
  },
  {
   "cell_type": "code",
   "execution_count": 7,
   "metadata": {
    "scrolled": true
   },
   "outputs": [],
   "source": [
    "# Training Part\n",
    "rewardList = []\n",
    "def TrainModel(RenderThresold = 400):\n",
    "    # 拿 globale 變數\n",
    "    global rewardList\n",
    "    \n",
    "    totalReward = 0\n",
    "    IsRender = False\n",
    "    for i in range(0, 3000):\n",
    "        # 歸零\n",
    "        observation = env.reset()\n",
    "\n",
    "        # 開始模擬\n",
    "        while True:\n",
    "            # redner 畫面\n",
    "            if(IsRender):\n",
    "                env.render()\n",
    "\n",
    "            # 選擇的動作\n",
    "            actionValue = Agent.chooseAction(observation)\n",
    "\n",
    "            # 選擇動作後 的結果\n",
    "            nextObservation, reward, IsDone, Info = env.step(actionValue)\n",
    "\n",
    "            # 存進記憶庫裡\n",
    "            Agent.storeTransition(\n",
    "                observation=observation,\n",
    "                action=actionValue,\n",
    "                reward=reward\n",
    "            )\n",
    "\n",
    "\n",
    "            if IsDone:\n",
    "                # 計算 Reward\n",
    "                if(i == 0):\n",
    "                    totalReward = np.sum(Agent.MemoryReward)\n",
    "                else:\n",
    "                    totalReward = totalReward * 0.99 + np.sum(Agent.MemoryReward) * 0.01\n",
    "                rewardList.append(totalReward)\n",
    "                print(\"Epilson \" + format(i + 1) + \" Reward: \" + format(totalReward))\n",
    "                \n",
    "                # 判斷是否到結束\n",
    "                if(totalReward > RenderThresold):\n",
    "                    return\n",
    "\n",
    "                # 學習\n",
    "                Agent.learn()\n",
    "                break\n",
    "\n",
    "            observation = nextObservation"
   ]
  },
  {
   "cell_type": "code",
   "execution_count": 8,
   "metadata": {
    "scrolled": true
   },
   "outputs": [],
   "source": [
    "def RunModel():\n",
    "    observation = env.reset()\n",
    "\n",
    "    # 開始模擬\n",
    "    while True:\n",
    "        # redner 畫面\n",
    "        env.render()\n",
    "\n",
    "        # 選擇的動作\n",
    "        actionValue = Agent.chooseAction(observation)\n",
    "        \n",
    "        # 選擇動作後 的結果\n",
    "        nextObservation, reward, IsDone, Info = env.step(actionValue)\n",
    "        observation = nextObservation\n",
    "        \n",
    "        # 代表失敗了\n",
    "        if IsDone:\n",
    "            break;\n",
    "        \n",
    "        # 如果按下 Ｑ 代表結束\n",
    "        if keyboard.is_pressed(\"q\"):\n",
    "            break"
   ]
  },
  {
   "cell_type": "code",
   "execution_count": 9,
   "metadata": {
    "scrolled": false
   },
   "outputs": [
    {
     "name": "stdout",
     "output_type": "stream",
     "text": [
      "Epilson 1 Reward: 16.0\n",
      "Epilson 2 Reward: 16.03\n",
      "Epilson 3 Reward: 16.3397\n",
      "Epilson 4 Reward: 16.356303\n",
      "Epilson 5 Reward: 16.57273997\n",
      "Epilson 6 Reward: 16.577012570300003\n",
      "Epilson 7 Reward: 16.671242444597006\n",
      "Epilson 8 Reward: 17.044530020151036\n",
      "Epilson 9 Reward: 17.054084719949525\n",
      "Epilson 10 Reward: 17.16354387275003\n",
      "Epilson 11 Reward: 17.37190843402253\n",
      "Epilson 12 Reward: 17.308189349682305\n",
      "Epilson 13 Reward: 17.29510745618548\n",
      "Epilson 14 Reward: 17.442156381623626\n",
      "Epilson 15 Reward: 17.617734817807392\n",
      "Epilson 16 Reward: 17.671557469629317\n",
      "Epilson 17 Reward: 17.864841894933026\n",
      "Epilson 18 Reward: 17.816193475983695\n",
      "Epilson 19 Reward: 18.108031541223855\n",
      "Epilson 20 Reward: 18.136951225811618\n",
      "Epilson 21 Reward: 18.075581713553504\n",
      "Epilson 22 Reward: 18.28482589641797\n",
      "Epilson 23 Reward: 18.72197763745379\n",
      "Epilson 24 Reward: 18.664757861079252\n",
      "Epilson 25 Reward: 18.92811028246846\n",
      "Epilson 26 Reward: 18.898829179643776\n",
      "Epilson 27 Reward: 18.86984088784734\n",
      "Epilson 28 Reward: 18.891142478968867\n",
      "Epilson 29 Reward: 19.722231054179176\n",
      "Epilson 30 Reward: 19.795008743637382\n",
      "Epilson 31 Reward: 19.94705865620101\n",
      "Epilson 32 Reward: 19.957588069638998\n",
      "Epilson 33 Reward: 20.28801218894261\n",
      "Epilson 34 Reward: 20.295132067053185\n",
      "Epilson 35 Reward: 20.892180746382653\n",
      "Epilson 36 Reward: 20.863258938918825\n",
      "Epilson 37 Reward: 21.444626349529635\n",
      "Epilson 38 Reward: 21.550180086034338\n",
      "Epilson 39 Reward: 21.964678285173992\n",
      "Epilson 40 Reward: 22.14503150232225\n",
      "Epilson 41 Reward: 22.61358118729903\n",
      "Epilson 42 Reward: 22.65744537542604\n",
      "Epilson 43 Reward: 22.86087092167178\n",
      "Epilson 44 Reward: 23.142262212455062\n",
      "Epilson 45 Reward: 23.45083959033051\n",
      "Epilson 46 Reward: 24.176331194427206\n",
      "Epilson 47 Reward: 25.334567882482933\n",
      "Epilson 48 Reward: 27.021222203658105\n",
      "Epilson 49 Reward: 28.941009981621526\n",
      "Epilson 50 Reward: 30.40159988180531\n",
      "Epilson 51 Reward: 30.567583882987257\n",
      "Epilson 52 Reward: 31.561908044157384\n",
      "Epilson 53 Reward: 34.58628896371581\n",
      "Epilson 54 Reward: 35.20042607407865\n",
      "Epilson 55 Reward: 36.15842181333787\n",
      "Epilson 56 Reward: 37.416837595204484\n",
      "Epilson 57 Reward: 38.08266921925244\n",
      "Epilson 58 Reward: 38.90184252705991\n",
      "Epilson 59 Reward: 39.16282410178931\n",
      "Epilson 60 Reward: 40.38119586077142\n",
      "Epilson 61 Reward: 41.76738390216371\n",
      "Epilson 62 Reward: 43.79971006314207\n",
      "Epilson 63 Reward: 46.02171296251065\n",
      "Epilson 64 Reward: 47.24149583288554\n",
      "Epilson 65 Reward: 47.63908087455668\n",
      "Epilson 66 Reward: 48.38269006581111\n",
      "Epilson 67 Reward: 48.968863165153\n",
      "Epilson 68 Reward: 49.72917453350147\n",
      "Epilson 69 Reward: 50.56188278816646\n",
      "Epilson 70 Reward: 50.6862639602848\n",
      "Epilson 71 Reward: 51.10940132068195\n",
      "Epilson 72 Reward: 51.65830730747513\n",
      "Epilson 73 Reward: 53.67172423440038\n",
      "Epilson 74 Reward: 54.69500699205638\n",
      "Epilson 75 Reward: 58.298056922135814\n",
      "Epilson 76 Reward: 59.225076352914456\n",
      "Epilson 77 Reward: 60.81282558938531\n",
      "Epilson 78 Reward: 61.80469733349146\n",
      "Epilson 79 Reward: 63.25665036015655\n",
      "Epilson 80 Reward: 64.51408385655498\n",
      "Epilson 81 Reward: 66.18894301798942\n",
      "Epilson 82 Reward: 67.67705358780952\n",
      "Epilson 83 Reward: 68.93028305193144\n",
      "Epilson 84 Reward: 69.20098022141212\n",
      "Epilson 85 Reward: 69.608970419198\n",
      "Epilson 86 Reward: 71.00288071500603\n",
      "Epilson 87 Reward: 71.75285190785596\n",
      "Epilson 88 Reward: 73.0153233887774\n",
      "Epilson 89 Reward: 73.82517015488963\n",
      "Epilson 90 Reward: 74.69691845334074\n",
      "Epilson 91 Reward: 75.82994926880733\n",
      "Epilson 92 Reward: 77.25164977611927\n",
      "Epilson 93 Reward: 78.15913327835808\n",
      "Epilson 94 Reward: 78.9275419455745\n",
      "Epilson 95 Reward: 82.34826652611875\n",
      "Epilson 96 Reward: 83.86478386085757\n",
      "Epilson 97 Reward: 84.21613602224899\n",
      "Epilson 98 Reward: 84.8139746620265\n",
      "Epilson 99 Reward: 85.55583491540624\n",
      "Epilson 100 Reward: 87.74027656625218\n",
      "Epilson 101 Reward: 88.60287380058965\n",
      "Epilson 102 Reward: 89.28684506258375\n",
      "Epilson 103 Reward: 92.6339766119579\n",
      "Epilson 104 Reward: 95.44763684583832\n",
      "Epilson 105 Reward: 96.51316047737993\n",
      "Epilson 106 Reward: 97.49802887260613\n",
      "Epilson 107 Reward: 99.65304858388006\n",
      "Epilson 108 Reward: 101.41651809804127\n",
      "Epilson 109 Reward: 103.68235291706085\n",
      "Epilson 110 Reward: 104.10552938789024\n",
      "Epilson 111 Reward: 105.76447409401135\n",
      "Epilson 112 Reward: 107.32682935307123\n",
      "Epilson 113 Reward: 110.77356105954051\n",
      "Epilson 114 Reward: 111.8958254489451\n",
      "Epilson 115 Reward: 116.19686719445565\n",
      "Epilson 116 Reward: 123.53489852251109\n",
      "Epilson 117 Reward: 123.18954953728597\n",
      "Epilson 118 Reward: 126.6576540419131\n",
      "Epilson 119 Reward: 132.85107750149396\n",
      "Epilson 120 Reward: 142.59256672647902\n",
      "Epilson 121 Reward: 144.54664105921424\n",
      "Epilson 122 Reward: 145.3011746486221\n",
      "Epilson 123 Reward: 147.60816290213586\n",
      "Epilson 124 Reward: 152.33208127311448\n",
      "Epilson 125 Reward: 154.43876046038332\n",
      "Epilson 126 Reward: 157.5743728557795\n",
      "Epilson 127 Reward: 160.2586291272217\n",
      "Epilson 128 Reward: 163.65604283594948\n",
      "Epilson 129 Reward: 163.00948240758999\n",
      "Epilson 130 Reward: 162.60938758351406\n",
      "Epilson 131 Reward: 171.2432937076789\n",
      "Epilson 132 Reward: 173.4508607706021\n",
      "Epilson 133 Reward: 175.69635216289606\n",
      "Epilson 134 Reward: 186.0993886412671\n",
      "Epilson 135 Reward: 189.9083947548544\n",
      "Epilson 136 Reward: 194.93931080730587\n",
      "Epilson 137 Reward: 198.54991769923282\n",
      "Epilson 138 Reward: 213.38441852224048\n",
      "Epilson 139 Reward: 231.80057433701808\n",
      "Epilson 140 Reward: 237.37256859364788\n",
      "Epilson 141 Reward: 241.4788429077114\n",
      "Epilson 142 Reward: 243.23405447863428\n",
      "Epilson 143 Reward: 249.00171393384792\n",
      "Epilson 144 Reward: 248.44169679450945\n",
      "Epilson 145 Reward: 250.11727982656436\n",
      "Epilson 146 Reward: 268.5461070282987\n",
      "Epilson 147 Reward: 269.4806459580157\n",
      "Epilson 148 Reward: 286.92583949843555\n",
      "Epilson 149 Reward: 300.3265811034512\n",
      "Epilson 150 Reward: 316.15331529241666\n",
      "Epilson 151 Reward: 336.9917821394925\n",
      "Epilson 152 Reward: 390.4718643180976\n",
      "Epilson 153 Reward: 477.6371456749166\n"
     ]
    }
   ],
   "source": [
    "# 訓練 Model\n",
    "TrainModel()"
   ]
  },
  {
   "cell_type": "code",
   "execution_count": 10,
   "metadata": {
    "scrolled": true
   },
   "outputs": [
    {
     "data": {
      "image/png": "[encoded data removed]",
      "text/plain": [
       "<matplotlib.figure.Figure at 0x1c94bca4d68>"
      ]
     },
     "metadata": {},
     "output_type": "display_data"
    }
   ],
   "source": [
    "# 畫出趨勢圖\n",
    "plt.plot(rewardList)\n",
    "plt.show()"
   ]
  },
  {
   "cell_type": "code",
   "execution_count": 11,
   "metadata": {},
   "outputs": [],
   "source": [
    "# 使否要顯示 Model\n",
    "# 按 Q 結束\n",
    "RunModel()"
   ]
  },
  {
   "cell_type": "code",
   "execution_count": 12,
   "metadata": {
    "scrolled": true
   },
   "outputs": [],
   "source": [
    "# 關閉程式\n",
    "Agent.session.close()\n",
    "env.render(close=True)"
   ]
  }
 ],
 "metadata": {
  "kernelspec": {
   "display_name": "Python 3",
   "language": "python",
   "name": "python3"
  },
  "language_info": {
   "codemirror_mode": {
    "name": "ipython",
    "version": 3
   },
   "file_extension": ".py",
   "mimetype": "text/x-python",
   "name": "python",
   "nbconvert_exporter": "python",
   "pygments_lexer": "ipython3",
   "version": "3.6.3"
  }
 },
 "nbformat": 4,
 "nbformat_minor": 1
}
