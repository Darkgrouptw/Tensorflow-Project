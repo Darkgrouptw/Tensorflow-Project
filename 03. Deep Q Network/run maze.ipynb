{
 "cells": [
  {
   "cell_type": "markdown",
   "metadata": {},
   "source": [
    "# 根據 Maze 的觀察來移動\n",
    "---"
   ]
  },
  {
   "cell_type": "code",
   "execution_count": 1,
   "metadata": {},
   "outputs": [],
   "source": [
    "from env.maze_env import Maze\n",
    "from RLAgent import DeepQNetwork"
   ]
  },
  {
   "cell_type": "code",
   "execution_count": 2,
   "metadata": {},
   "outputs": [],
   "source": [
    "# 新的視窗的 Maze\n",
    "env = Maze()\n",
    "Agent = DeepQNetwork(\n",
    "    env.n_actions,\n",
    "    env.n_features,\n",
    "    replace_target_iter=200,\n",
    "    memory_size=2000,\n",
    "    #IsOutputGraph=True\n",
    ")"
   ]
  },
  {
   "cell_type": "markdown",
   "metadata": {},
   "source": [
    "## 跑 300 個週期，看學習的結果\n",
    "---\n",
    "其中 State(Observation) 是指到終點的座標"
   ]
  },
  {
   "cell_type": "code",
   "execution_count": 3,
   "metadata": {},
   "outputs": [],
   "source": [
    "def UpdateFunction():\n",
    "    step = 0\n",
    "    for episode in range(300):\n",
    "        observation = env.reset()\n",
    "        while True:\n",
    "            # 一直更新\n",
    "            env.render()\n",
    "            \n",
    "            # 選擇 Action\n",
    "            action = Agent.choose_action(observation)\n",
    "            \n",
    "            # 選擇某個動作後的一些回饋\n",
    "            nextObservation, reward, IsDone = env.step(action)\n",
    "            \n",
    "            # 選擇要下去做\n",
    "            Agent.store_transition(observation,action,reward,nextObservation)\n",
    "            \n",
    "            if (step > 200) and (step % 5 == 0):\n",
    "                Agent.learn()\n",
    "            \n",
    "            # 更新狀態\n",
    "            observation = nextObservation\n",
    "            \n",
    "            if IsDone:\n",
    "                break\n",
    "                \n",
    "            step += 1\n",
    "    print(\"Game Over\")\n",
    "    env.destroy()"
   ]
  },
  {
   "cell_type": "markdown",
   "metadata": {},
   "source": [
    "## 開始執行\n",
    "---"
   ]
  },
  {
   "cell_type": "code",
   "execution_count": 4,
   "metadata": {
    "scrolled": true
   },
   "outputs": [
    {
     "name": "stdout",
     "output_type": "stream",
     "text": [
      "\n",
      "Target Params Change\n",
      "\n",
      "\n",
      "Target Params Change\n",
      "\n",
      "\n",
      "Target Params Change\n",
      "\n",
      "\n",
      "Target Params Change\n",
      "\n",
      "Game Over\n"
     ]
    },
    {
     "data": {
      "image/png": "[encoded data removed]",
      "text/plain": [
       "<matplotlib.figure.Figure at 0x175dce887b8>"
      ]
     },
     "metadata": {},
     "output_type": "display_data"
    }
   ],
   "source": [
    "env.after(100, UpdateFunction)\n",
    "env.mainloop()\n",
    "Agent.plot_cost()"
   ]
  }
 ],
 "metadata": {
  "kernelspec": {
   "display_name": "Python 3",
   "language": "python",
   "name": "python3"
  },
  "language_info": {
   "codemirror_mode": {
    "name": "ipython",
    "version": 3
   },
   "file_extension": ".py",
   "mimetype": "text/x-python",
   "name": "python",
   "nbconvert_exporter": "python",
   "pygments_lexer": "ipython3",
   "version": "3.6.3"
  }
 },
 "nbformat": 4,
 "nbformat_minor": 2
}
